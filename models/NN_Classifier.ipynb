{
 "cells": [
  {
   "cell_type": "code",
   "execution_count": 20,
   "id": "initial_id",
   "metadata": {
    "ExecuteTime": {
     "end_time": "2025-07-14T23:34:53.794748Z",
     "start_time": "2025-07-14T23:34:53.790670Z"
    },
    "collapsed": true
   },
   "outputs": [
    {
     "name": "stdout",
     "output_type": "stream",
     "text": [
      "['i', 'me', 'my', 'myself', 'we', 'our', 'ours', 'ourselves', 'you', \"you're\", \"you've\", \"you'll\", \"you'd\", 'your', 'yours', 'yourself', 'yourselves', 'he', 'him', 'his', 'himself', 'she', \"she's\", 'her', 'hers', 'herself', 'it', \"it's\", 'its', 'itself', 'they', 'them', 'their', 'theirs', 'themselves', 'what', 'which', 'who', 'whom', 'this', 'that', \"that'll\", 'these', 'those', 'am', 'is', 'are', 'was', 'were', 'be', 'been', 'being', 'have', 'has', 'had', 'having', 'do', 'does', 'did', 'doing', 'a', 'an', 'the', 'and', 'but', 'if', 'or', 'because', 'as', 'until', 'while', 'of', 'at', 'by', 'for', 'with', 'about', 'against', 'between', 'into', 'through', 'during', 'before', 'after', 'above', 'below', 'to', 'from', 'up', 'down', 'in', 'out', 'on', 'off', 'over', 'under', 'again', 'further', 'then', 'once', 'here', 'there', 'when', 'where', 'why', 'how', 'all', 'any', 'both', 'each', 'few', 'more', 'most', 'other', 'some', 'such', 'no', 'nor', 'not', 'only', 'own', 'same', 'so', 'than', 'too', 'very', 's', 't', 'can', 'will', 'just', 'don', \"don't\", 'should', \"should've\", 'now', 'd', 'll', 'm', 'o', 're', 've', 'y', 'ain', 'aren', \"aren't\", 'couldn', \"couldn't\", 'didn', \"didn't\", 'doesn', \"doesn't\", 'hadn', \"hadn't\", 'hasn', \"hasn't\", 'haven', \"haven't\", 'isn', \"isn't\", 'ma', 'mightn', \"mightn't\", 'mustn', \"mustn't\", 'needn', \"needn't\", 'shan', \"shan't\", 'shouldn', \"shouldn't\", 'wasn', \"wasn't\", 'weren', \"weren't\", 'won', \"won't\", 'wouldn', \"wouldn't\"]\n"
     ]
    }
   ],
   "source": [
    "import nltk\n",
    "nltk.data.path.append(\"/Users/danielcanhedo/nltk_data\")\n",
    "from nltk.corpus import stopwords\n",
    "print(stopwords.words(\"english\"))  # finally works\n",
    "from nltk.corpus import stopwords # stop works are commonly used words that do not provide value to training model\n",
    "from nltk.stem import PorterStemmer # porterstemmer converts similar words to one type of word. for example, running, runner becomes run\n",
    "import re\n",
    "import numpy as np\n",
    "import pandas as pd\n",
    "from sklearn.feature_extraction.text import TfidfVectorizer\n",
    "import torch\n",
    "import torch.nn as nn\n",
    "from torch.nn import functional as F\n",
    "import torch.optim as optim\n",
    "from sklearn.model_selection import train_test_split\n",
    "import joblib\n"
   ]
  },
  {
   "cell_type": "code",
   "execution_count": 21,
   "id": "cbcee9580125fa7a",
   "metadata": {
    "ExecuteTime": {
     "end_time": "2025-07-14T23:34:55.440237Z",
     "start_time": "2025-07-14T23:34:55.433688Z"
    }
   },
   "outputs": [],
   "source": [
    "dataset = pd.read_csv(\"Datasets/training_data_real.csv\") # imports our training data set\n"
   ]
  },
  {
   "cell_type": "code",
   "execution_count": 22,
   "id": "885777e37738bd9e",
   "metadata": {
    "ExecuteTime": {
     "end_time": "2025-07-14T23:34:57.034860Z",
     "start_time": "2025-07-14T23:34:57.031204Z"
    }
   },
   "outputs": [
    {
     "data": {
      "text/plain": [
       "pandas.core.series.Series"
      ]
     },
     "execution_count": 22,
     "metadata": {},
     "output_type": "execute_result"
    }
   ],
   "source": [
    "type(dataset.text)"
   ]
  },
  {
   "cell_type": "code",
   "execution_count": null,
   "id": "63bf97e3b9e8738",
   "metadata": {
    "ExecuteTime": {
     "end_time": "2025-07-14T23:37:46.021686Z",
     "start_time": "2025-07-14T23:37:45.510994Z"
    }
   },
   "outputs": [],
   "source": [
    "# data cleaning portion ----------------------------------------------------------------\n",
    "\n",
    "ps = PorterStemmer()\n",
    "corpus = []\n",
    "\n",
    "for i in range(len(dataset)):\n",
    "\n",
    "    comments = re.sub(\"[^a-zA-Z]\", \" \", str(dataset[\"text\"][i])) # we are only going to keep a-z A-Z letters, try to look at this without cleaning punctuation, special characters\n",
    "    comments = comments.lower() # converts to lowercase for consistency\n",
    "    comments = comments.split() # splits every word by space. we now have individual words\n",
    "\n",
    "    clean_comments = [] # initializes a list to store cleaned comments\n",
    "    for word in comments:\n",
    "\n",
    "        if word not in set(stopwords.words('english')): # this for loop will get rid of stop words and apply stemming (explained above)\n",
    "            stemmed_word = ps.stem(word)\n",
    "            clean_comments.append(stemmed_word)\n",
    "\n",
    "    clean_comments = \" \".join(clean_comments)\n",
    "    corpus.append(clean_comments) # we now have a corpus of clean sentences"
   ]
  },
  {
   "cell_type": "code",
   "execution_count": 24,
   "id": "cba5f6aded221dbf",
   "metadata": {
    "ExecuteTime": {
     "end_time": "2025-07-14T23:37:47.693816Z",
     "start_time": "2025-07-14T23:37:47.682516Z"
    }
   },
   "outputs": [
    {
     "name": "stdout",
     "output_type": "stream",
     "text": [
      "[0.         0.         0.         0.         0.         0.\n",
      " 0.         0.         0.         0.19759377 0.         0.\n",
      " 0.         0.         0.         0.         0.         0.\n",
      " 0.19759377 0.         0.         0.         0.         0.\n",
      " 0.         0.         0.         0.         0.         0.\n",
      " 0.         0.         0.         0.         0.         0.\n",
      " 0.         0.         0.         0.         0.         0.20624316\n",
      " 0.         0.         0.         0.         0.         0.\n",
      " 0.         0.         0.         0.15768411 0.20624316 0.\n",
      " 0.         0.         0.         0.         0.         0.\n",
      " 0.         0.         0.         0.         0.         0.\n",
      " 0.         0.         0.         0.         0.         0.\n",
      " 0.         0.         0.         0.20624316 0.         0.\n",
      " 0.         0.         0.         0.         0.         0.\n",
      " 0.         0.         0.         0.         0.         0.\n",
      " 0.         0.         0.         0.         0.         0.\n",
      " 0.         0.         0.         0.         0.         0.\n",
      " 0.         0.         0.18455158 0.         0.         0.\n",
      " 0.         0.         0.         0.         0.         0.\n",
      " 0.         0.         0.         0.         0.         0.\n",
      " 0.         0.         0.         0.         0.         0.\n",
      " 0.         0.         0.         0.         0.         0.\n",
      " 0.         0.         0.         0.         0.         0.20624316\n",
      " 0.         0.1707263  0.         0.         0.         0.17481024\n",
      " 0.         0.         0.         0.         0.         0.\n",
      " 0.         0.28032891 0.         0.         0.         0.\n",
      " 0.         0.         0.         0.         0.         0.17481024\n",
      " 0.         0.         0.         0.         0.         0.1905267\n",
      " 0.         0.         0.         0.         0.         0.\n",
      " 0.         0.         0.         0.         0.         0.\n",
      " 0.         0.30501644 0.         0.         0.         0.\n",
      " 0.         0.         0.         0.         0.         0.\n",
      " 0.         0.         0.         0.         0.         0.\n",
      " 0.         0.         0.         0.         0.         0.\n",
      " 0.17937569 0.         0.         0.         0.         0.\n",
      " 0.         0.         0.         0.         0.15250822 0.18455158\n",
      " 0.         0.         0.         0.         0.         0.\n",
      " 0.         0.         0.         0.         0.         0.\n",
      " 0.         0.         0.         0.         0.         0.\n",
      " 0.         0.17937569 0.         0.         0.         0.\n",
      " 0.         0.         0.         0.         0.41248633 0.12945644\n",
      " 0.         0.         0.         0.         0.         0.\n",
      " 0.         0.         0.         0.         0.         0.\n",
      " 0.         0.         0.         0.         0.         0.\n",
      " 0.         0.         0.         0.         0.         0.\n",
      " 0.         0.         0.         0.         0.         0.1905267\n",
      " 0.         0.         0.         0.         0.         0.16703193\n",
      " 0.         0.         0.         0.         0.         0.14794277]\n",
      "[1 1 1 1 1 1 1 1 1 1 1 1 1 1 1 1 1 1 1 1 1 1 1 1 1 1 1 1 1 1 1 1 1 1 1 1 1\n",
      " 1 1 1 1 1 1 1 1 1 1 1 1 1 1 1 1 1 1 1 1 1 1 1 1 1 1 1 1 1 1 1 1 1 1 1 1 1\n",
      " 1 1 1 1 1 1 1 1 1 1 1 1 1 1 1 1 1 1 1 1 1 1 1 1 1 1 1 1 1 1 1 1 1 1 1 1 1\n",
      " 1 1 1 1 1 1 1 1 1 1 1 1 1 1 1 1 1 1 1 1 1 1 1 1 1 1 1 1 1 1 1 1 1 1 1 1 1\n",
      " 1 1 0 0 0 0 0 0 0 0 0 0 0 0 0 0 0 0 0 0 0 0 0 0 0 0 0 0 0 0 0 0 0 0 0 0 0\n",
      " 0 0 0 0 0 0 0 0 0 0 0 0 0 0 0 0 0 0 0 0 0 0 0 0 0 0 0 0 0 0 0 0 0 0 0 0 0\n",
      " 0 0 0 0 0 0 0 0 0 0 0 0 0 0 0 0 0 0 0 0 0 0 0 0 0 0 0 0 0 0 0 0 0 0 0 0 0\n",
      " 0 0 0 0 0 0 0 0 0 0 0 0 0 0 0 0 0 0 0 0 0 0 0 0 0 0 0 0 0 0 0 0 0 0 0 0 0\n",
      " 0 0 0 0]\n",
      "torch.Size([240, 288])\n",
      "torch.Size([240])\n",
      "\n",
      "torch.Size([60, 288])\n",
      "torch.Size([60])\n"
     ]
    }
   ],
   "source": [
    "\n",
    "# we will now convert the sentences to vectors to send through our model\n",
    "\n",
    "# TFIDF stands for Term-Frequency-Inverse Document Frequency. It measures how important a word is to a document relative to a corpus\n",
    "# (collection) of documents.\n",
    "# Term Frequency (TF) - measures how often a word appears in a document\n",
    "# Inverse Document Frequency (IDF) - measures how unique or rare a word is across all documents\n",
    "\n",
    "# TF = # Times word occurs in a document / # total number of words in document\n",
    "# IDF = log((Total # of documents / Number of documents containing the term) + 1)\n",
    "\n",
    "# Rare words across documents get a high IDF\n",
    "# Common words appear in many documents so their IDF is lower\n",
    "# Think of documents as a sentence\n",
    "\n",
    "# see the chart (where the number is higher, the more important that word is in that document)\n",
    "#       bird    cat    dog\n",
    "# D1    0.00    0.52   0.00\n",
    "# D2    0.00    0.00   0.52\n",
    "# D3    0.52    0.00   0.00\n",
    "\n",
    "# same goes for our matrix if we do X = vectorizer.fit_transform(corupus).toarray()\n",
    "\n",
    "vectorizer = TfidfVectorizer(max_features=20000, min_df=0.01, max_df=0.9) # max number of words, the amount of times for word to occur to be considered, and then max_df gets rif of words that occur mroe than a certain type\n",
    "X = vectorizer.fit_transform(corpus).toarray()\n",
    "print(X[0])\n",
    "\n",
    "y = dataset['boolean'].values  # gets our boolean row and converts to numpy array\n",
    "print(y)\n",
    "\n",
    "X_train, X_test, y_train, y_test = train_test_split(X, y, test_size=0.2, random_state=0) # splits our dataset into training set and test set\n",
    "\n",
    "X_train = torch.from_numpy(X_train).float()\n",
    "X_test = torch.from_numpy(X_test).float()\n",
    "\n",
    "Y_train = torch.from_numpy(y_train).long()\n",
    "y_test = torch.from_numpy(y_test).long()\n",
    "\n",
    "\n",
    "print(X_train.shape)\n",
    "print(Y_train.shape)\n",
    "print()\n",
    "print(X_test.shape)\n",
    "print(y_test.shape)\n",
    "\n",
    "# all of this prints:\n",
    "# torch.Size([1640, 186])\n",
    "# torch.Size([1640])\n",
    "#\n",
    "# torch.Size([410, 186])\n",
    "# torch.Size([410])\n",
    "# all of this means we have 1640+410 = 2050 sentences in the corpus, 186 vectorized features (need to understand this more)"
   ]
  },
  {
   "cell_type": "code",
   "execution_count": 25,
   "id": "630ee9e63fd94b3e",
   "metadata": {
    "ExecuteTime": {
     "end_time": "2025-07-14T23:37:50.612967Z",
     "start_time": "2025-07-14T23:37:50.607611Z"
    }
   },
   "outputs": [],
   "source": [
    "input_size = X_train.shape[1] # the number of nodes we have\n",
    "output_size = 2 # we are predicting whether true or false so it is 2\n",
    "hidden_size = 500 # this can change but lets try with 500\n",
    "\n",
    "# let's now build the neural network ourselves like we learned in datacamp\n",
    "model = nn.Sequential(\n",
    "    nn.Linear(input_size, hidden_size), # builds our first layer. remember they must link with the same hidden_size\n",
    "    nn.ReLU(), # introduces non-linearity so it can learn more complex relationships (look more into this)\n",
    "    nn.Linear(hidden_size, hidden_size),\n",
    "    nn.ReLU(),\n",
    "    nn.Linear(hidden_size, hidden_size),\n",
    "    nn.ReLU(),\n",
    "    nn.Linear(hidden_size, hidden_size),\n",
    "    nn.ReLU(),\n",
    "    nn.Linear(hidden_size, output_size),\n",
    "    nn.LogSoftmax(dim=1)) # we use the softmax activation function which is for classification"
   ]
  },
  {
   "cell_type": "code",
   "execution_count": 26,
   "id": "2cfd84dfcafe79b1",
   "metadata": {
    "ExecuteTime": {
     "end_time": "2025-07-14T23:37:51.894365Z",
     "start_time": "2025-07-14T23:37:51.892094Z"
    }
   },
   "outputs": [],
   "source": [
    "# the optimizer is what changes the weights and biases during training so it can learn better, this minimizes the loss function\n",
    "# it improves the accuracy of the neural network by using gradient descent\n",
    "optimizer = torch.optim.Adam(model.parameters(), lr=0.01)\n",
    "\n",
    "# the loss function is what holds the value for how bad the model performaed. it calculates the difference between the model's\n",
    "# prediction and the actual label\n",
    "loss_fn = nn.NLLLoss()"
   ]
  },
  {
   "cell_type": "code",
   "execution_count": 27,
   "id": "7a61cfc204c33489",
   "metadata": {
    "ExecuteTime": {
     "end_time": "2025-07-14T23:37:53.853363Z",
     "start_time": "2025-07-14T23:37:53.047060Z"
    }
   },
   "outputs": [
    {
     "name": "stdout",
     "output_type": "stream",
     "text": [
      "Epoch 0 Loss: 0.6938909888267517\n",
      "Epoch 1 Loss: 0.7608694434165955\n",
      "Epoch 2 Loss: 0.7484799027442932\n",
      "Epoch 3 Loss: 0.6956703662872314\n",
      "Epoch 4 Loss: 0.6301010847091675\n",
      "Epoch 5 Loss: 0.4926683306694031\n",
      "Epoch 6 Loss: 0.3124917149543762\n",
      "Epoch 7 Loss: 0.10885050147771835\n",
      "Epoch 8 Loss: 0.12263614684343338\n",
      "Epoch 9 Loss: 0.0809314176440239\n",
      "Epoch 10 Loss: 0.06374393403530121\n",
      "Epoch 11 Loss: 0.053256258368492126\n",
      "Epoch 12 Loss: 0.03892409801483154\n",
      "Epoch 13 Loss: 0.0308510884642601\n",
      "Epoch 14 Loss: 0.054161619395017624\n",
      "Epoch 15 Loss: 0.033764760941267014\n",
      "Epoch 16 Loss: 0.03139186277985573\n",
      "Epoch 17 Loss: 0.031770914793014526\n",
      "Epoch 18 Loss: 0.031822532415390015\n",
      "Epoch 19 Loss: 0.031185941770672798\n",
      "Epoch 20 Loss: 0.030558118596673012\n",
      "Epoch 21 Loss: 0.030612416565418243\n",
      "Epoch 22 Loss: 0.029871609061956406\n",
      "Epoch 23 Loss: 0.02934611588716507\n",
      "Epoch 24 Loss: 0.02835313230752945\n",
      "Epoch 25 Loss: 0.027679314836859703\n",
      "Epoch 26 Loss: 0.026675766333937645\n",
      "Epoch 27 Loss: 0.0259183831512928\n",
      "Epoch 28 Loss: 0.025208450853824615\n",
      "Epoch 29 Loss: 0.024265052750706673\n",
      "Epoch 30 Loss: 0.023693418130278587\n",
      "Epoch 31 Loss: 0.023209773004055023\n",
      "Epoch 32 Loss: 0.0230155847966671\n",
      "Epoch 33 Loss: 0.022920036688447\n",
      "Epoch 34 Loss: 0.02328399010002613\n",
      "Epoch 35 Loss: 0.0229320228099823\n",
      "Epoch 36 Loss: 0.02244008518755436\n",
      "Epoch 37 Loss: 0.022877736017107964\n",
      "Epoch 38 Loss: 0.022306889295578003\n",
      "Epoch 39 Loss: 0.02232290618121624\n",
      "Epoch 40 Loss: 0.02207828313112259\n",
      "Epoch 41 Loss: 0.022164927795529366\n",
      "Epoch 42 Loss: 0.022111354395747185\n",
      "Epoch 43 Loss: 0.02203400246798992\n",
      "Epoch 44 Loss: 0.022114889696240425\n",
      "Epoch 45 Loss: 0.022019723430275917\n",
      "Epoch 46 Loss: 0.02205074019730091\n",
      "Epoch 47 Loss: 0.022066086530685425\n",
      "Epoch 48 Loss: 0.02198934555053711\n",
      "Epoch 49 Loss: 0.022061297670006752\n",
      "Epoch 50 Loss: 0.02198837511241436\n",
      "Epoch 51 Loss: 0.022014452144503593\n",
      "Epoch 52 Loss: 0.022018201649188995\n",
      "Epoch 53 Loss: 0.02198290266096592\n",
      "Epoch 54 Loss: 0.02202155999839306\n",
      "Epoch 55 Loss: 0.02198156714439392\n",
      "Epoch 56 Loss: 0.022000888362526894\n",
      "Epoch 57 Loss: 0.021995384246110916\n",
      "Epoch 58 Loss: 0.0219808891415596\n",
      "Epoch 59 Loss: 0.02200051210820675\n",
      "Epoch 60 Loss: 0.02197975292801857\n",
      "Epoch 61 Loss: 0.021989373490214348\n",
      "Epoch 62 Loss: 0.02198854833841324\n",
      "Epoch 63 Loss: 0.021979594603180885\n",
      "Epoch 64 Loss: 0.0219899769872427\n",
      "Epoch 65 Loss: 0.021980153396725655\n",
      "Epoch 66 Loss: 0.021983129903674126\n",
      "Epoch 67 Loss: 0.02198549546301365\n",
      "Epoch 68 Loss: 0.0219782292842865\n",
      "Epoch 69 Loss: 0.02198493666946888\n",
      "Epoch 70 Loss: 0.02198014222085476\n",
      "Epoch 71 Loss: 0.021980440244078636\n",
      "Epoch 72 Loss: 0.021982645615935326\n",
      "Epoch 73 Loss: 0.021978015080094337\n",
      "Epoch 74 Loss: 0.02198205143213272\n",
      "Epoch 75 Loss: 0.021979328244924545\n",
      "Epoch 76 Loss: 0.02197929657995701\n",
      "Epoch 77 Loss: 0.021980786696076393\n",
      "Epoch 78 Loss: 0.02197803370654583\n",
      "Epoch 79 Loss: 0.021980341523885727\n",
      "Epoch 80 Loss: 0.021978609263896942\n",
      "Epoch 81 Loss: 0.021978769451379776\n",
      "Epoch 82 Loss: 0.02197958342730999\n",
      "Epoch 83 Loss: 0.021977931261062622\n",
      "Epoch 84 Loss: 0.021979382261633873\n",
      "Epoch 85 Loss: 0.021978182718157768\n",
      "Epoch 86 Loss: 0.02197857014834881\n",
      "Epoch 87 Loss: 0.021978700533509254\n",
      "Epoch 88 Loss: 0.021977920085191727\n",
      "Epoch 89 Loss: 0.02197880670428276\n",
      "Epoch 90 Loss: 0.02197817526757717\n",
      "Epoch 91 Loss: 0.02197868563234806\n",
      "Epoch 92 Loss: 0.021978355944156647\n",
      "Epoch 93 Loss: 0.021978164091706276\n",
      "Epoch 94 Loss: 0.02197846584022045\n",
      "Epoch 95 Loss: 0.021977821364998817\n",
      "Epoch 96 Loss: 0.021978454664349556\n",
      "Epoch 97 Loss: 0.021977895870804787\n",
      "Epoch 98 Loss: 0.02197812870144844\n",
      "Epoch 99 Loss: 0.021978044882416725\n"
     ]
    }
   ],
   "source": [
    "# now we will actually train the neural network\n",
    "epochs = 100\n",
    "\n",
    "for epoch in range(epochs):\n",
    "    optimizer.zero_grad()\n",
    "    Y_pred = model(X_train)\n",
    "    loss = loss_fn(Y_pred, Y_train) # loss function which computes how different predictions are from actual label\n",
    "    loss.backward() # backward pass to optimize\n",
    "    optimizer.step() # optimizes the weights to minimize loss\n",
    "    print(\"Epoch\", epoch, \"Loss:\", loss.item())\n",
    "\n",
    "# so perhaps we can find a way to combine our text classifier with a DecisionTreeRegressor which would take\n",
    "# into account like count, reply count, etc."
   ]
  },
  {
   "cell_type": "code",
   "execution_count": 28,
   "id": "a51946de0302652a",
   "metadata": {},
   "outputs": [],
   "source": [
    "# Save the vectorizer\n",
    "joblib.dump(vectorizer, 'vectorizer_real.pkl')\n",
    "torch.save(model.state_dict(), 'model_weights.pth')\n",
    "# Save entire model\n",
    "torch.save(model, 'full_model_real.pt')"
   ]
  }
 ],
 "metadata": {
  "kernelspec": {
   "display_name": ".venv",
   "language": "python",
   "name": "python3"
  },
  "language_info": {
   "codemirror_mode": {
    "name": "ipython",
    "version": 3
   },
   "file_extension": ".py",
   "mimetype": "text/x-python",
   "name": "python",
   "nbconvert_exporter": "python",
   "pygments_lexer": "ipython3",
   "version": "3.11.1"
  }
 },
 "nbformat": 4,
 "nbformat_minor": 5
}
