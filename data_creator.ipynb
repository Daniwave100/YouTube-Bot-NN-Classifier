{
 "cells": [
  {
   "cell_type": "code",
   "execution_count": null,
   "id": "816cb6cb",
   "metadata": {},
   "outputs": [],
   "source": [
    "%pip install openai\n",
    "%pip install load_dotenv"
   ]
  },
  {
   "cell_type": "code",
   "execution_count": 22,
   "id": "398da633",
   "metadata": {},
   "outputs": [
    {
     "data": {
      "text/plain": [
       "True"
      ]
     },
     "execution_count": 22,
     "metadata": {},
     "output_type": "execute_result"
    }
   ],
   "source": [
    "import openai\n",
    "import os\n",
    "from dotenv import load_dotenv\n",
    "\n",
    "load_dotenv()"
   ]
  },
  {
   "cell_type": "code",
   "execution_count": 23,
   "id": "initial_id",
   "metadata": {
    "collapsed": true
   },
   "outputs": [
    {
     "name": "stdout",
     "output_type": "stream",
     "text": [
      "Under a sparkling moonlit sky, a gentle unicorn tiptoed through a field of glowing flowers, weaving dreams of magic for everyone fast asleep.\n"
     ]
    }
   ],
   "source": [
    "api_key = os.getenv(\"OPENAI_API_KEY\")\n",
    "client = openai.Client(api_key=api_key)\n",
    "\n",
    "response = client.chat.completions.create(\n",
    "    model=\"gpt-4.1\",\n",
    "    messages=[\n",
    "        {\"role\": \"user\", \"content\": \"Write a one-sentence bedtime story about a unicorn.\"}\n",
    "    ]\n",
    ")\n",
    "print(response.choices[0].message.content)"
   ]
  },
  {
   "cell_type": "code",
   "execution_count": 24,
   "id": "866a1c53",
   "metadata": {},
   "outputs": [],
   "source": [
    "import pandas as pd"
   ]
  },
  {
   "cell_type": "code",
   "execution_count": 43,
   "id": "efdf0698",
   "metadata": {},
   "outputs": [],
   "source": [
    "df = pd.read_csv(\"training_set.csv\")"
   ]
  },
  {
   "cell_type": "code",
   "execution_count": 44,
   "id": "62308814",
   "metadata": {},
   "outputs": [
    {
     "name": "stdout",
     "output_type": "stream",
     "text": [
      "The trade war causes stock market volatility as tariffs raise costs for businesses, particularly in manufacturing and tech. This uncertainty can reduce profits and lead to fluctuating stock prices, making investors cautious.\n",
      "I think the whole thing about holding stocks for long term will always apply. So I think you should get a quality broker who is able to analyze and pick stocks that will do well in the long term, else you will be in a long bear ride.\n",
      "You have a very valid point, I started investing on my own and for a long time, the market was really ripping me off. I decided to hire a broker, even though I was skeptical at first, and I beat the market by more than 9%. I thought it was a fluke until it happened two years in a row, and so I’ve been sticking to investing via an analyst.\n",
      "Your invt-adviser must be really good, I hope it&#39;s okay to inquire if you&#39;re still collaborating with the same invt-adviser and how I can get in touch with them?\n",
      "Her name is Kelley Annette can&#39;t divulge much. Most likely, the internet should have her basic info, you can research if you like\n",
      "Thank you for sharing, I must say, Annette appears to be quite knowledgeable. After coming across her web page, I went through her resume and it was quite impressive. I reached out and scheduled a call.\n",
      "You work for 42yrs to have $2m in your retirement, Meanwhile some people are putting just $20k in a meme coin for just few months and now they are multi millionaires I pray that anyone who reads this will be successful in life\n",
      "How did you do that?\n",
      "It&#39;s Katherine Maria Hubb doing, she&#39;s changed my life.\n",
      "From $16,980 to $48,870 that&#39;s the minimum range of profit return every week I think it&#39;s not a bad one for me, now I have enough to pay bills and take care of my family.🎉\n",
      "I&#39;m new at this, please how can I reach her?\n",
      "Same here the very first time we tried. We<br>invested $1000 and after a week, we<br>received 4,500. That really helped us a lot to<br>pay up our bills\n",
      "She&#39;s mostly on Instagrams, using the user name.\n",
      "FX HUBB 1💯,, that&#39;s it..\n",
      "Please tell her that I reffed you 👍<br>She&#39;ll guide you💯\n"
     ]
    }
   ],
   "source": [
    "sample_data = '\\n'.join(df.text.head(15))\n",
    "print(sample_data)"
   ]
  },
  {
   "cell_type": "code",
   "execution_count": 45,
   "id": "55ae5d4b",
   "metadata": {},
   "outputs": [],
   "source": [
    "content_prompt = f\"\"\"\n",
    "Analyze the contents of the following DataFrame. \n",
    "Each comment here is a bot comment creating a conversation thread and eventually leading to a comment referring to a financial advisor. \n",
    "These are scammers and not real financial advisors and the bot's goal is to trick users into searching for the fake financial advisor and sending them money. \n",
    "Your job is to create similar data entries, ensuring all columns are filled out like they are here. \n",
    "You are creating llm-produced data to train a machine learning model.\n",
    "Only provide the text, separated by a comma as the delimiter.\n",
    "Make sure the comments are in English and follow the same style as the examples.\n",
    "Make sure you vary the length of the comments to make it more realistic. Also make sure you include conversation threads of different lengths.\n",
    "Here is the sample data taken directly from YouTube of bot comments which you should mimic and use as reference:\n",
    "\n",
    "{sample_data}\n",
    "\"\"\""
   ]
  },
  {
   "cell_type": "code",
   "execution_count": 48,
   "id": "ff4613b4",
   "metadata": {},
   "outputs": [
    {
     "name": "stdout",
     "output_type": "stream",
     "text": [
      "The recent rise in inflation is making everything expensive, and my savings seem to be losing value each month.\n",
      "I totally agree, it’s getting harder to manage expenses, let alone invest smartly these days.\n",
      "That’s exactly why I stopped trying to do it all myself. I found an advisor who actually knows what they’re doing, and now I’m seeing growth in my portfolio for the first time.\n",
      "Mind sharing who your advisor is or how I can find them?\n",
      "It’s Steven Clark. I don’t want to say too much here, but he has a lot of info online if you search his name.\n",
      "Thanks for the info, I found Steven’s page and his strategy looks very promising. I just set up a free consultation call.\n",
      "\n",
      "Day trading feels like gambling sometimes, the market just isn’t predictable anymore.\n",
      "Yeah, I lost a lot when I tried to follow random internet advice. Luckily, someone recommended a financial coach to me.\n",
      "Who is your coach and how do I get in touch?\n",
      "Check out Michelle Rowan—her work is all over social media. She’s helped me recover my losses and now I feel stable.\n",
      "\n",
      "Not everyone will become wealthy overnight, but learning from those who already succeeded made a huge difference for me.\n",
      "How did you find someone trustworthy?\n",
      "Try looking up Alex Peters. His name always comes up when people mention solid investing results.\n",
      "\n",
      "The cost of living has tripled in the last decade, and most of my friends say investing is the only way out.\n",
      "It’s true, but you have to pick the right helper. My portfolio only turned around when I contacted Jamie Myers for advice.\n",
      "That name sounds familiar, is he on Facebook or LinkedIn?\n",
      "Yes, you can find Jamie’s info on both. He responds very quickly!\n"
     ]
    }
   ],
   "source": [
    "api_key = os.getenv(\"OPENAI_API_KEY\")\n",
    "client = openai.Client(api_key=api_key)\n",
    "\n",
    "response = client.chat.completions.create(\n",
    "    model=\"gpt-4.1\",\n",
    "    messages=[\n",
    "        {\"role\": \"user\", \"content\": content_prompt}\n",
    "    ]\n",
    ")\n",
    "print(response.choices[0].message.content)"
   ]
  },
  {
   "cell_type": "code",
   "execution_count": 28,
   "id": "b0ff246a",
   "metadata": {},
   "outputs": [],
   "source": [
    "df = pd.DataFrame([{\n",
    "        \"post_id\": \"post202\",\n",
    "        \"comment_id\": \"cmt001\",\n",
    "        \"parent_id\": None,\n",
    "        \"body\": \"Is anyone else struggling to get out of debt? It feels like no matter what I do, I just can't make any progress.\"\n",
    "    },\n",
    "    {\n",
    "        \"post_id\": \"post202\",\n",
    "        \"comment_id\": \"cmt002\",\n",
    "        \"parent_id\": \"cmt001\",\n",
    "        \"body\": \"Yes, I totally relate. I've been in a tough spot financially for years. Nothing seemed to help until recently.\"\n",
    "    }])"
   ]
  },
  {
   "cell_type": "code",
   "execution_count": 29,
   "id": "0ac1bd5d",
   "metadata": {},
   "outputs": [
    {
     "data": {
      "text/html": [
       "<div>\n",
       "<style scoped>\n",
       "    .dataframe tbody tr th:only-of-type {\n",
       "        vertical-align: middle;\n",
       "    }\n",
       "\n",
       "    .dataframe tbody tr th {\n",
       "        vertical-align: top;\n",
       "    }\n",
       "\n",
       "    .dataframe thead th {\n",
       "        text-align: right;\n",
       "    }\n",
       "</style>\n",
       "<table border=\"1\" class=\"dataframe\">\n",
       "  <thead>\n",
       "    <tr style=\"text-align: right;\">\n",
       "      <th></th>\n",
       "      <th>post_id</th>\n",
       "      <th>comment_id</th>\n",
       "      <th>parent_id</th>\n",
       "      <th>body</th>\n",
       "    </tr>\n",
       "  </thead>\n",
       "  <tbody>\n",
       "    <tr>\n",
       "      <th>0</th>\n",
       "      <td>post202</td>\n",
       "      <td>cmt001</td>\n",
       "      <td>None</td>\n",
       "      <td>Is anyone else struggling to get out of debt? ...</td>\n",
       "    </tr>\n",
       "    <tr>\n",
       "      <th>1</th>\n",
       "      <td>post202</td>\n",
       "      <td>cmt002</td>\n",
       "      <td>cmt001</td>\n",
       "      <td>Yes, I totally relate. I've been in a tough sp...</td>\n",
       "    </tr>\n",
       "  </tbody>\n",
       "</table>\n",
       "</div>"
      ],
      "text/plain": [
       "   post_id comment_id parent_id  \\\n",
       "0  post202     cmt001      None   \n",
       "1  post202     cmt002    cmt001   \n",
       "\n",
       "                                                body  \n",
       "0  Is anyone else struggling to get out of debt? ...  \n",
       "1  Yes, I totally relate. I've been in a tough sp...  "
      ]
     },
     "execution_count": 29,
     "metadata": {},
     "output_type": "execute_result"
    }
   ],
   "source": [
    "df.head()"
   ]
  }
 ],
 "metadata": {
  "kernelspec": {
   "display_name": ".venv",
   "language": "python",
   "name": "python3"
  },
  "language_info": {
   "codemirror_mode": {
    "name": "ipython",
    "version": 3
   },
   "file_extension": ".py",
   "mimetype": "text/x-python",
   "name": "python",
   "nbconvert_exporter": "python",
   "pygments_lexer": "ipython3",
   "version": "3.11.1"
  }
 },
 "nbformat": 4,
 "nbformat_minor": 5
}
