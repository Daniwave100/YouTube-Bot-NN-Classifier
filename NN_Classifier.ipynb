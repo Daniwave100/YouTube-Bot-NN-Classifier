{
 "cells": [
  {
   "cell_type": "code",
   "execution_count": 2,
   "id": "initial_id",
   "metadata": {
    "ExecuteTime": {
     "end_time": "2025-07-14T23:34:53.794748Z",
     "start_time": "2025-07-14T23:34:53.790670Z"
    },
    "collapsed": true
   },
   "outputs": [
    {
     "name": "stdout",
     "output_type": "stream",
     "text": [
      "['i', 'me', 'my', 'myself', 'we', 'our', 'ours', 'ourselves', 'you', \"you're\", \"you've\", \"you'll\", \"you'd\", 'your', 'yours', 'yourself', 'yourselves', 'he', 'him', 'his', 'himself', 'she', \"she's\", 'her', 'hers', 'herself', 'it', \"it's\", 'its', 'itself', 'they', 'them', 'their', 'theirs', 'themselves', 'what', 'which', 'who', 'whom', 'this', 'that', \"that'll\", 'these', 'those', 'am', 'is', 'are', 'was', 'were', 'be', 'been', 'being', 'have', 'has', 'had', 'having', 'do', 'does', 'did', 'doing', 'a', 'an', 'the', 'and', 'but', 'if', 'or', 'because', 'as', 'until', 'while', 'of', 'at', 'by', 'for', 'with', 'about', 'against', 'between', 'into', 'through', 'during', 'before', 'after', 'above', 'below', 'to', 'from', 'up', 'down', 'in', 'out', 'on', 'off', 'over', 'under', 'again', 'further', 'then', 'once', 'here', 'there', 'when', 'where', 'why', 'how', 'all', 'any', 'both', 'each', 'few', 'more', 'most', 'other', 'some', 'such', 'no', 'nor', 'not', 'only', 'own', 'same', 'so', 'than', 'too', 'very', 's', 't', 'can', 'will', 'just', 'don', \"don't\", 'should', \"should've\", 'now', 'd', 'll', 'm', 'o', 're', 've', 'y', 'ain', 'aren', \"aren't\", 'couldn', \"couldn't\", 'didn', \"didn't\", 'doesn', \"doesn't\", 'hadn', \"hadn't\", 'hasn', \"hasn't\", 'haven', \"haven't\", 'isn', \"isn't\", 'ma', 'mightn', \"mightn't\", 'mustn', \"mustn't\", 'needn', \"needn't\", 'shan', \"shan't\", 'shouldn', \"shouldn't\", 'wasn', \"wasn't\", 'weren', \"weren't\", 'won', \"won't\", 'wouldn', \"wouldn't\"]\n"
     ]
    }
   ],
   "source": [
    "import nltk\n",
    "nltk.data.path.append(\"/Users/danielcanhedo/nltk_data\")\n",
    "from nltk.corpus import stopwords\n",
    "print(stopwords.words(\"english\"))  # finally works\n",
    "from nltk.corpus import stopwords # stop works are commonly used words that do not provide value to training model\n",
    "from nltk.stem import PorterStemmer # porterstemmer converts similar words to one type of word. for example, running, runner becomes run\n",
    "import re\n",
    "import numpy as np\n",
    "import pandas as pd\n",
    "from sklearn.feature_extraction.text import TfidfVectorizer\n",
    "import torch\n",
    "import torch.nn as nn\n",
    "from torch.nn import functional as F\n",
    "import torch.optim as optim\n",
    "from sklearn.model_selection import train_test_split\n",
    "import joblib\n"
   ]
  },
  {
   "cell_type": "code",
   "execution_count": 3,
   "id": "cbcee9580125fa7a",
   "metadata": {
    "ExecuteTime": {
     "end_time": "2025-07-14T23:34:55.440237Z",
     "start_time": "2025-07-14T23:34:55.433688Z"
    }
   },
   "outputs": [],
   "source": [
    "dataset = pd.read_csv(\"Datasets/test_data.csv\") # imports our training data set\n"
   ]
  },
  {
   "cell_type": "code",
   "execution_count": 6,
   "id": "885777e37738bd9e",
   "metadata": {
    "ExecuteTime": {
     "end_time": "2025-07-14T23:34:57.034860Z",
     "start_time": "2025-07-14T23:34:57.031204Z"
    }
   },
   "outputs": [
    {
     "data": {
      "text/plain": [
       "pandas.core.series.Series"
      ]
     },
     "execution_count": 6,
     "metadata": {},
     "output_type": "execute_result"
    }
   ],
   "source": [
    "type(dataset.text)"
   ]
  },
  {
   "cell_type": "code",
   "execution_count": 4,
   "id": "63bf97e3b9e8738",
   "metadata": {
    "ExecuteTime": {
     "end_time": "2025-07-14T23:37:46.021686Z",
     "start_time": "2025-07-14T23:37:45.510994Z"
    }
   },
   "outputs": [],
   "source": [
    "# data cleaning portion ----------------------------------------------------------------\n",
    "\n",
    "ps = PorterStemmer()\n",
    "corpus = []\n",
    "\n",
    "for i in range(len(dataset)):\n",
    "\n",
    "    comments = re.sub(\"[^a-zA-Z]\", \" \", str(dataset[\"text\"][i])) # we are only going to keep a-z A-Z letters\n",
    "    comments = comments.lower() # converts to lowercase for consistency\n",
    "    comments = comments.split() # splits every word by space. we now have individual words\n",
    "\n",
    "    clean_comments = [] # initializes a list to store cleaned comments\n",
    "    for word in comments:\n",
    "\n",
    "        if word not in set(stopwords.words('english')): # this for loop will get rid of stop words and apply stemming (explained above)\n",
    "            stemmed_word = ps.stem(word)\n",
    "            clean_comments.append(stemmed_word)\n",
    "\n",
    "    clean_comments = \" \".join(clean_comments)\n",
    "    corpus.append(clean_comments) # we now have a corpus of clean sentences"
   ]
  },
  {
   "cell_type": "code",
   "execution_count": 5,
   "id": "cba5f6aded221dbf",
   "metadata": {
    "ExecuteTime": {
     "end_time": "2025-07-14T23:37:47.693816Z",
     "start_time": "2025-07-14T23:37:47.682516Z"
    }
   },
   "outputs": [
    {
     "name": "stdout",
     "output_type": "stream",
     "text": [
      "[0.         0.         0.         0.         0.         0.\n",
      " 0.         0.         0.         0.         0.         0.\n",
      " 0.         0.         0.         0.         0.         0.\n",
      " 0.         0.         0.         0.         0.         0.\n",
      " 0.         0.         0.         0.         0.         0.\n",
      " 0.         0.         0.         0.         0.         0.\n",
      " 0.         0.         0.         0.         0.         0.\n",
      " 0.         0.         0.         0.         0.         0.\n",
      " 0.         0.         0.         0.         0.         0.\n",
      " 0.         0.         0.         0.         0.         0.\n",
      " 0.         0.         0.         0.         0.         0.\n",
      " 0.         0.         0.         0.         0.         0.\n",
      " 0.         0.         0.         0.         0.         0.\n",
      " 0.         0.         0.         0.         0.         0.\n",
      " 0.         0.         0.         0.         0.         0.\n",
      " 0.         0.         0.         0.         0.254556   0.\n",
      " 0.         0.         0.         0.         0.47158443 0.\n",
      " 0.         0.         0.         0.31495396 0.         0.\n",
      " 0.         0.         0.         0.         0.31378133 0.\n",
      " 0.         0.         0.         0.         0.         0.\n",
      " 0.         0.         0.         0.         0.         0.\n",
      " 0.         0.         0.         0.         0.         0.\n",
      " 0.         0.         0.         0.         0.         0.\n",
      " 0.         0.         0.         0.         0.         0.\n",
      " 0.         0.         0.         0.         0.         0.\n",
      " 0.         0.         0.         0.         0.         0.\n",
      " 0.         0.         0.         0.         0.         0.\n",
      " 0.         0.         0.         0.         0.         0.\n",
      " 0.         0.         0.         0.         0.         0.\n",
      " 0.         0.         0.48239625 0.         0.         0.\n",
      " 0.         0.         0.         0.         0.         0.\n",
      " 0.         0.         0.         0.         0.         0.\n",
      " 0.         0.         0.         0.         0.         0.\n",
      " 0.         0.3718212  0.         0.         0.         0.\n",
      " 0.37973347 0.         0.         0.         0.         0.\n",
      " 0.         0.         0.         0.         0.         0.\n",
      " 0.         0.         0.         0.         0.         0.\n",
      " 0.         0.         0.         0.         0.         0.\n",
      " 0.         0.         0.        ]\n",
      "[0 1 0 ... 1 1 0]\n",
      "torch.Size([3443, 231])\n",
      "torch.Size([3443])\n",
      "\n",
      "torch.Size([861, 231])\n",
      "torch.Size([861])\n"
     ]
    }
   ],
   "source": [
    "\n",
    "# we will now convert the sentences to vectors to send through our model\n",
    "\n",
    "# TFIDF stands for Term-Frequency-Inverse Document Frequency. It measures how important a word is to a document relative to a corpus\n",
    "# (collection) of documents.\n",
    "# Term Frequency (TF) - measures how often a word appears in a document\n",
    "# Inverse Document Frequency (IDF) - measures how unique or rare a word is across all documents\n",
    "\n",
    "# TF = # Times word occurs in a document / # total number of words in document\n",
    "# IDF = log((Total # of documents / Number of documents containing the term) + 1)\n",
    "\n",
    "# Rare words across documents get a high IDF\n",
    "# Common words appear in many documents so their IDF is lower\n",
    "# Think of documents as a sentence\n",
    "\n",
    "# see the chart (where the number is higher, the more important that word is in that document)\n",
    "#       bird    cat    dog\n",
    "# D1    0.00    0.52   0.00\n",
    "# D2    0.00    0.00   0.52\n",
    "# D3    0.52    0.00   0.00\n",
    "\n",
    "# same goes for our matrix if we do X = vectorizer.fit_transform(corupus).toarray()\n",
    "\n",
    "vectorizer = TfidfVectorizer(max_features=20000, min_df=0.01, max_df=0.9) # max number of words, the amount of times for word to occur to be considered, and then max_df gets rif of words that occur mroe than a certain type\n",
    "X = vectorizer.fit_transform(corpus).toarray()\n",
    "print(X[0])\n",
    "\n",
    "y = dataset['boolean'].values  # gets our boolean row and converts to numpy array\n",
    "print(y)\n",
    "\n",
    "X_train, X_test, y_train, y_test = train_test_split(X, y, test_size=0.2, random_state=0) # splits our dataset into training set and test set\n",
    "\n",
    "X_train = torch.from_numpy(X_train).float()\n",
    "X_test = torch.from_numpy(X_test).float()\n",
    "\n",
    "Y_train = torch.from_numpy(y_train).long()\n",
    "y_test = torch.from_numpy(y_test).long()\n",
    "\n",
    "\n",
    "print(X_train.shape)\n",
    "print(Y_train.shape)\n",
    "print()\n",
    "print(X_test.shape)\n",
    "print(y_test.shape)\n",
    "\n",
    "# all of this prints:\n",
    "# torch.Size([1640, 186])\n",
    "# torch.Size([1640])\n",
    "#\n",
    "# torch.Size([410, 186])\n",
    "# torch.Size([410])\n",
    "# all of this means we have 1640+410 = 2050 sentences in the corpus, 186 vectorized features (need to understand this more)"
   ]
  },
  {
   "cell_type": "code",
   "execution_count": 6,
   "id": "630ee9e63fd94b3e",
   "metadata": {
    "ExecuteTime": {
     "end_time": "2025-07-14T23:37:50.612967Z",
     "start_time": "2025-07-14T23:37:50.607611Z"
    }
   },
   "outputs": [],
   "source": [
    "input_size = X_train.shape[1] # the number of nodes we have\n",
    "output_size = 2 # we are predicting whether true or false so it is 2\n",
    "hidden_size = 500 # this can change but lets try with 500\n",
    "\n",
    "# let's now build the neural network ourselves like we learned in datacamp\n",
    "model = nn.Sequential(\n",
    "    nn.Linear(input_size, hidden_size), # builds our first layer. remember they must link with the same hidden_size\n",
    "    nn.ReLU(), # introduces non-linearity so it can learn more complex relationships (look more into this)\n",
    "    nn.Linear(hidden_size, hidden_size),\n",
    "    nn.ReLU(),\n",
    "    nn.Linear(hidden_size, hidden_size),\n",
    "    nn.ReLU(),\n",
    "    nn.Linear(hidden_size, hidden_size),\n",
    "    nn.ReLU(),\n",
    "    nn.Linear(hidden_size, output_size),\n",
    "    nn.LogSoftmax(dim=1)) # we use the softmax activation function which is for classification"
   ]
  },
  {
   "cell_type": "code",
   "execution_count": 7,
   "id": "2cfd84dfcafe79b1",
   "metadata": {
    "ExecuteTime": {
     "end_time": "2025-07-14T23:37:51.894365Z",
     "start_time": "2025-07-14T23:37:51.892094Z"
    }
   },
   "outputs": [],
   "source": [
    "# the optimizer is what changes the weights and biases during training so it can learn better, this minimizes the loss function\n",
    "# it improves the accuracy of the neural network by using gradient descent\n",
    "optimizer = torch.optim.Adam(model.parameters(), lr=0.01)\n",
    "\n",
    "# the loss function is what holds the value for how bad the model performaed. it calculates the difference between the model's\n",
    "# prediction and the actual label\n",
    "loss_fn = nn.NLLLoss()"
   ]
  },
  {
   "cell_type": "code",
   "execution_count": 8,
   "id": "7a61cfc204c33489",
   "metadata": {
    "ExecuteTime": {
     "end_time": "2025-07-14T23:37:53.853363Z",
     "start_time": "2025-07-14T23:37:53.047060Z"
    }
   },
   "outputs": [
    {
     "name": "stdout",
     "output_type": "stream",
     "text": [
      "Epoch 0 Loss: 0.6954460144042969\n",
      "Epoch 1 Loss: 0.9930170774459839\n",
      "Epoch 2 Loss: 0.7746158838272095\n",
      "Epoch 3 Loss: 0.7214235663414001\n",
      "Epoch 4 Loss: 0.6184757947921753\n",
      "Epoch 5 Loss: 0.5288136005401611\n",
      "Epoch 6 Loss: 0.39465853571891785\n",
      "Epoch 7 Loss: 0.2735481858253479\n",
      "Epoch 8 Loss: 0.1239589974284172\n",
      "Epoch 9 Loss: 0.09215084463357925\n",
      "Epoch 10 Loss: 0.07829464226961136\n",
      "Epoch 11 Loss: 0.06542792171239853\n",
      "Epoch 12 Loss: 0.029722051694989204\n",
      "Epoch 13 Loss: 0.026297835633158684\n",
      "Epoch 14 Loss: 0.013192501850426197\n",
      "Epoch 15 Loss: 0.0071979425847530365\n",
      "Epoch 16 Loss: 0.007180241402238607\n",
      "Epoch 17 Loss: 0.004920115694403648\n",
      "Epoch 18 Loss: 0.002641266444697976\n",
      "Epoch 19 Loss: 0.0015569068491458893\n",
      "Epoch 20 Loss: 0.000871548370923847\n",
      "Epoch 21 Loss: 0.0006010316428728402\n",
      "Epoch 22 Loss: 0.0004266426258254796\n",
      "Epoch 23 Loss: 0.00022284603619482368\n",
      "Epoch 24 Loss: 9.060841694008559e-05\n",
      "Epoch 25 Loss: 4.6178101911209524e-05\n",
      "Epoch 26 Loss: 2.7194882932235487e-05\n",
      "Epoch 27 Loss: 1.6859536117408425e-05\n",
      "Epoch 28 Loss: 1.0869159268622752e-05\n",
      "Epoch 29 Loss: 6.996368483669357e-06\n",
      "Epoch 30 Loss: 4.4304488255875185e-06\n",
      "Epoch 31 Loss: 2.9112557058397215e-06\n",
      "Epoch 32 Loss: 2.019139401454595e-06\n",
      "Epoch 33 Loss: 1.4807905017732992e-06\n",
      "Epoch 34 Loss: 1.1783467925852165e-06\n",
      "Epoch 35 Loss: 1.0278198487867485e-06\n",
      "Epoch 36 Loss: 9.560728813085007e-07\n",
      "Epoch 37 Loss: 9.011841370920592e-07\n",
      "Epoch 38 Loss: 8.131533490995935e-07\n",
      "Epoch 39 Loss: 6.664234888376086e-07\n",
      "Epoch 40 Loss: 5.037732648816018e-07\n",
      "Epoch 41 Loss: 3.573005642465432e-07\n",
      "Epoch 42 Loss: 2.514820494070591e-07\n",
      "Epoch 43 Loss: 1.811038430332701e-07\n",
      "Epoch 44 Loss: 1.3007466748149454e-07\n",
      "Epoch 45 Loss: 9.593864547241537e-08\n",
      "Epoch 46 Loss: 7.277687785745002e-08\n",
      "Epoch 47 Loss: 5.598521113370225e-08\n",
      "Epoch 48 Loss: 4.3763531465401684e-08\n",
      "Epoch 49 Loss: 3.46923982874614e-08\n",
      "Epoch 50 Loss: 2.8010203934059064e-08\n",
      "Epoch 51 Loss: 2.288600597921686e-08\n",
      "Epoch 52 Loss: 1.8973603133076722e-08\n",
      "Epoch 53 Loss: 1.6030632821184554e-08\n",
      "Epoch 54 Loss: 1.378012548514107e-08\n",
      "Epoch 55 Loss: 1.187584519612983e-08\n",
      "Epoch 56 Loss: 1.0421667973048443e-08\n",
      "Epoch 57 Loss: 9.348345209048148e-09\n",
      "Epoch 58 Loss: 8.413514329674854e-09\n",
      "Epoch 59 Loss: 7.686423053598901e-09\n",
      "Epoch 60 Loss: 7.0978254385067885e-09\n",
      "Epoch 61 Loss: 6.509226935236256e-09\n",
      "Epoch 62 Loss: 6.024498233614395e-09\n",
      "Epoch 63 Loss: 5.643641109998043e-09\n",
      "Epoch 64 Loss: 5.297406069360022e-09\n",
      "Epoch 65 Loss: 5.0550417185490915e-09\n",
      "Epoch 66 Loss: 4.778053508402991e-09\n",
      "Epoch 67 Loss: 4.57031257283802e-09\n",
      "Epoch 68 Loss: 4.362572081362259e-09\n",
      "Epoch 69 Loss: 4.154831145797289e-09\n",
      "Epoch 70 Loss: 4.050960900059408e-09\n",
      "Epoch 71 Loss: 3.808595216980848e-09\n",
      "Epoch 72 Loss: 3.7047251932875724e-09\n",
      "Epoch 73 Loss: 3.427736317007657e-09\n",
      "Epoch 74 Loss: 3.3584894865157366e-09\n",
      "Epoch 75 Loss: 3.2546190187332513e-09\n",
      "Epoch 76 Loss: 3.1853717441521212e-09\n",
      "Epoch 77 Loss: 3.116124913660201e-09\n",
      "Epoch 78 Loss: 3.046877417034466e-09\n",
      "Epoch 79 Loss: 3.0122542238331107e-09\n",
      "Epoch 80 Loss: 2.9083833119614155e-09\n",
      "Epoch 81 Loss: 2.8737598967154554e-09\n",
      "Epoch 82 Loss: 2.735265791642405e-09\n",
      "Epoch 83 Loss: 2.70064215435184e-09\n",
      "Epoch 84 Loss: 2.70064215435184e-09\n",
      "Epoch 85 Loss: 2.66601873910588e-09\n",
      "Epoch 86 Loss: 2.6313953238599197e-09\n",
      "Epoch 87 Loss: 2.5967716865693546e-09\n",
      "Epoch 88 Loss: 2.4929009967422644e-09\n",
      "Epoch 89 Loss: 2.4582775814963043e-09\n",
      "Epoch 90 Loss: 2.4582775814963043e-09\n",
      "Epoch 91 Loss: 2.423654166250344e-09\n",
      "Epoch 92 Loss: 2.389030528959779e-09\n",
      "Epoch 93 Loss: 2.354406891669214e-09\n",
      "Epoch 94 Loss: 2.354406891669214e-09\n",
      "Epoch 95 Loss: 2.319783032334044e-09\n",
      "Epoch 96 Loss: 2.319783032334044e-09\n",
      "Epoch 97 Loss: 2.285159617088084e-09\n",
      "Epoch 98 Loss: 2.285159617088084e-09\n",
      "Epoch 99 Loss: 2.2505364238867287e-09\n"
     ]
    }
   ],
   "source": [
    "# now we will actually train the neural network\n",
    "epochs = 100\n",
    "\n",
    "for epoch in range(epochs):\n",
    "    optimizer.zero_grad()\n",
    "    Y_pred = model(X_train)\n",
    "    loss = loss_fn(Y_pred, Y_train) # loss function which computes how different predictions are from actual label\n",
    "    loss.backward() # backward pass to optimize\n",
    "    optimizer.step() # optimizes the weights to minimize loss\n",
    "    print(\"Epoch\", epoch, \"Loss:\", loss.item())\n",
    "\n",
    "# so perhaps we can find a way to combine our text classifier with a DecisionTreeRegressor which would take\n",
    "# into account like count, reply count, etc."
   ]
  },
  {
   "cell_type": "code",
   "execution_count": 9,
   "id": "a51946de0302652a",
   "metadata": {},
   "outputs": [],
   "source": [
    "# Save the vectorizer\n",
    "joblib.dump(vectorizer, 'vectorizer.pkl')\n",
    "torch.save(model.state_dict(), 'model_weights.pth')\n",
    "# Save entire model\n",
    "torch.save(model, 'full_model.pt')"
   ]
  }
 ],
 "metadata": {
  "kernelspec": {
   "display_name": ".venv",
   "language": "python",
   "name": "python3"
  },
  "language_info": {
   "codemirror_mode": {
    "name": "ipython",
    "version": 3
   },
   "file_extension": ".py",
   "mimetype": "text/x-python",
   "name": "python",
   "nbconvert_exporter": "python",
   "pygments_lexer": "ipython3",
   "version": "3.12.11"
  }
 },
 "nbformat": 4,
 "nbformat_minor": 5
}
