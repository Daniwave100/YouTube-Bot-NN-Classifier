{
 "cells": [
  {
   "cell_type": "code",
   "execution_count": 13,
   "id": "dc86804a",
   "metadata": {},
   "outputs": [],
   "source": [
    "with open(\"/Users/danielcanhedo/DARPA_Research/YouTube-Bot-NN-Classifier/Datasets/RawData/test_data_real.csv\", \"r\") as file:\n",
    "    content = file.read()\n",
    "\n",
    "with open(\"/Users/danielcanhedo/DARPA_Research/YouTube-Bot-NN-Classifier/Datasets/RawData/train_data_real.csv\", \"r\") as file:\n",
    "    train_content = file.read()\n",
    "    "
   ]
  },
  {
   "cell_type": "code",
   "execution_count": 14,
   "id": "efada442",
   "metadata": {},
   "outputs": [],
   "source": [
    "content = content.replace(\"<br>\", \"br\")\n",
    "train_content = train_content.replace(\"<br>\", \"br\")"
   ]
  },
  {
   "cell_type": "code",
   "execution_count": 15,
   "id": "42a3e251",
   "metadata": {},
   "outputs": [],
   "source": [
    "with open(\"/Users/danielcanhedo/DARPA_Research/YouTube-Bot-NN-Classifier/Datasets/test_data_clean.csv\", \"w\") as file:\n",
    "    file.write(content)\n",
    "\n",
    "with open(\"/Users/danielcanhedo/DARPA_Research/YouTube-Bot-NN-Classifier/Datasets/train_data_clean.csv\", \"w\") as file:\n",
    "    file.write(train_content)\n"
   ]
  },
  {
   "cell_type": "code",
   "execution_count": null,
   "id": "a4a10984",
   "metadata": {},
   "outputs": [
    {
     "name": "stdout",
     "output_type": "stream",
     "text": [
      "Shuffling complete. Files saved as test_data_clean_shuffled.csv and train_data_clean_shuffled.csv\n"
     ]
    }
   ],
   "source": [
    "\n",
    "import pandas as pd\n",
    "\n",
    "# Load the cleaned test data\n",
    "df_test = pd.read_csv(\"/Users/danielcanhedo/DARPA_Research/YouTube-Bot-NN-Classifier/Datasets/test_data_clean.csv\")\n",
    "\n",
    "# Shuffle the test data\n",
    "df_test_shuffled = df_test.sample(frac=1, random_state=42).reset_index(drop=True)\n",
    "\n",
    "# Save the shuffled test data back to CSV\n",
    "df_test_shuffled.to_csv(\"/Users/danielcanhedo/DARPA_Research/YouTube-Bot-NN-Classifier/Datasets/test_data_clean_shuffled.csv\", index=False)\n",
    "\n",
    "# Load the cleaned train data\n",
    "df_train = pd.read_csv(\"/Users/danielcanhedo/DARPA_Research/YouTube-Bot-NN-Classifier/Datasets/train_data_clean.csv\")\n",
    "\n",
    "# Shuffle the train data\n",
    "df_train_shuffled = df_train.sample(frac=1, random_state=42).reset_index(drop=True)\n",
    "\n",
    "# Save the shuffled train data back to CSV\n",
    "df_train_shuffled.to_csv(\"/Users/danielcanhedo/DARPA_Research/YouTube-Bot-NN-Classifier/Datasets/train_data_clean_shuffled.csv\", index=False)"
   ]
  }
 ],
 "metadata": {
  "kernelspec": {
   "display_name": ".venv",
   "language": "python",
   "name": "python3"
  },
  "language_info": {
   "codemirror_mode": {
    "name": "ipython",
    "version": 3
   },
   "file_extension": ".py",
   "mimetype": "text/x-python",
   "name": "python",
   "nbconvert_exporter": "python",
   "pygments_lexer": "ipython3",
   "version": "3.11.1"
  }
 },
 "nbformat": 4,
 "nbformat_minor": 5
}
