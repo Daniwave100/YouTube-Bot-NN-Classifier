{
 "cells": [
  {
   "cell_type": "code",
   "execution_count": 9,
   "id": "initial_id",
   "metadata": {
    "ExecuteTime": {
     "end_time": "2025-07-14T23:34:53.794748Z",
     "start_time": "2025-07-14T23:34:53.790670Z"
    },
    "collapsed": true
   },
   "outputs": [
    {
     "name": "stdout",
     "output_type": "stream",
     "text": [
      "['i', 'me', 'my', 'myself', 'we', 'our', 'ours', 'ourselves', 'you', \"you're\", \"you've\", \"you'll\", \"you'd\", 'your', 'yours', 'yourself', 'yourselves', 'he', 'him', 'his', 'himself', 'she', \"she's\", 'her', 'hers', 'herself', 'it', \"it's\", 'its', 'itself', 'they', 'them', 'their', 'theirs', 'themselves', 'what', 'which', 'who', 'whom', 'this', 'that', \"that'll\", 'these', 'those', 'am', 'is', 'are', 'was', 'were', 'be', 'been', 'being', 'have', 'has', 'had', 'having', 'do', 'does', 'did', 'doing', 'a', 'an', 'the', 'and', 'but', 'if', 'or', 'because', 'as', 'until', 'while', 'of', 'at', 'by', 'for', 'with', 'about', 'against', 'between', 'into', 'through', 'during', 'before', 'after', 'above', 'below', 'to', 'from', 'up', 'down', 'in', 'out', 'on', 'off', 'over', 'under', 'again', 'further', 'then', 'once', 'here', 'there', 'when', 'where', 'why', 'how', 'all', 'any', 'both', 'each', 'few', 'more', 'most', 'other', 'some', 'such', 'no', 'nor', 'not', 'only', 'own', 'same', 'so', 'than', 'too', 'very', 's', 't', 'can', 'will', 'just', 'don', \"don't\", 'should', \"should've\", 'now', 'd', 'll', 'm', 'o', 're', 've', 'y', 'ain', 'aren', \"aren't\", 'couldn', \"couldn't\", 'didn', \"didn't\", 'doesn', \"doesn't\", 'hadn', \"hadn't\", 'hasn', \"hasn't\", 'haven', \"haven't\", 'isn', \"isn't\", 'ma', 'mightn', \"mightn't\", 'mustn', \"mustn't\", 'needn', \"needn't\", 'shan', \"shan't\", 'shouldn', \"shouldn't\", 'wasn', \"wasn't\", 'weren', \"weren't\", 'won', \"won't\", 'wouldn', \"wouldn't\"]\n"
     ]
    }
   ],
   "source": [
    "import nltk\n",
    "nltk.data.path.append(\"/Users/danielcanhedo/nltk_data\")\n",
    "from nltk.corpus import stopwords\n",
    "print(stopwords.words(\"english\"))  # finally works\n",
    "from nltk.corpus import stopwords # stop works are commonly used words that do not provide value to training model\n",
    "from nltk.stem import PorterStemmer # porterstemmer converts similar words to one type of word. for example, running, runner becomes run\n",
    "import re\n",
    "import numpy as np\n",
    "import pandas as pd\n",
    "from sklearn.feature_extraction.text import TfidfVectorizer\n",
    "import torch\n",
    "import torch.nn as nn\n",
    "from torch.nn import functional as F\n",
    "import torch.optim as optim\n",
    "from sklearn.model_selection import train_test_split\n",
    "import joblib\n"
   ]
  },
  {
   "cell_type": "code",
   "execution_count": 10,
   "id": "cbcee9580125fa7a",
   "metadata": {
    "ExecuteTime": {
     "end_time": "2025-07-14T23:34:55.440237Z",
     "start_time": "2025-07-14T23:34:55.433688Z"
    }
   },
   "outputs": [],
   "source": [
    "dataset = pd.read_csv(\"/Users/danielcanhedo/DARPA_Research/YouTube-Bot-NN-Classifier/Datasets/CuratedData/real_train_data_clean.csv\") # imports our training data set\n"
   ]
  },
  {
   "cell_type": "code",
   "execution_count": 22,
   "id": "885777e37738bd9e",
   "metadata": {
    "ExecuteTime": {
     "end_time": "2025-07-14T23:34:57.034860Z",
     "start_time": "2025-07-14T23:34:57.031204Z"
    }
   },
   "outputs": [
    {
     "data": {
      "text/plain": [
       "pandas.core.series.Series"
      ]
     },
     "execution_count": 22,
     "metadata": {},
     "output_type": "execute_result"
    }
   ],
   "source": [
    "type(dataset.text)"
   ]
  },
  {
   "cell_type": "code",
   "execution_count": 12,
   "id": "63bf97e3b9e8738",
   "metadata": {
    "ExecuteTime": {
     "end_time": "2025-07-14T23:37:46.021686Z",
     "start_time": "2025-07-14T23:37:45.510994Z"
    }
   },
   "outputs": [],
   "source": [
    "# data cleaning portion ----------------------------------------------------------------\n",
    "\n",
    "ps = PorterStemmer()\n",
    "corpus = []\n",
    "\n",
    "for i in range(len(dataset)):\n",
    "    comments = str(dataset[\"text\"][i])  # No regex replacement\n",
    "    comments = comments.lower()\n",
    "    comments = comments.split()\n",
    "\n",
    "    clean_comments = []\n",
    "    for word in comments:\n",
    "        if word not in set(stopwords.words('english')):\n",
    "            stemmed_word = ps.stem(word)\n",
    "            clean_comments.append(stemmed_word)\n",
    "\n",
    "    clean_comments = \" \".join(clean_comments)\n",
    "    corpus.append(clean_comments)"
   ]
  },
  {
   "cell_type": "code",
   "execution_count": 13,
   "id": "cba5f6aded221dbf",
   "metadata": {
    "ExecuteTime": {
     "end_time": "2025-07-14T23:37:47.693816Z",
     "start_time": "2025-07-14T23:37:47.682516Z"
    }
   },
   "outputs": [
    {
     "name": "stdout",
     "output_type": "stream",
     "text": [
      "[0.         0.         0.         0.         0.         0.\n",
      " 0.         0.         0.         0.         0.         0.\n",
      " 0.         0.         0.         0.         0.         0.\n",
      " 0.         0.         0.         0.         0.         0.\n",
      " 0.         0.         0.         0.37752586 0.         0.\n",
      " 0.         0.         0.         0.         0.         0.\n",
      " 0.         0.45606406 0.         0.         0.         0.\n",
      " 0.         0.         0.         0.         0.         0.\n",
      " 0.         0.         0.42131035 0.         0.         0.\n",
      " 0.         0.         0.         0.         0.         0.\n",
      " 0.         0.         0.         0.         0.         0.\n",
      " 0.         0.         0.         0.         0.         0.\n",
      " 0.         0.         0.         0.         0.         0.\n",
      " 0.         0.         0.         0.         0.         0.\n",
      " 0.         0.         0.         0.         0.         0.\n",
      " 0.         0.         0.         0.         0.         0.\n",
      " 0.         0.         0.39665221 0.         0.         0.\n",
      " 0.         0.         0.         0.         0.         0.\n",
      " 0.         0.         0.         0.         0.         0.\n",
      " 0.         0.         0.         0.         0.         0.\n",
      " 0.         0.         0.         0.         0.         0.\n",
      " 0.         0.         0.         0.         0.         0.\n",
      " 0.         0.         0.         0.         0.         0.\n",
      " 0.         0.         0.         0.         0.         0.\n",
      " 0.         0.         0.         0.         0.         0.\n",
      " 0.         0.         0.         0.         0.         0.\n",
      " 0.         0.         0.         0.         0.         0.\n",
      " 0.         0.         0.         0.         0.         0.\n",
      " 0.         0.         0.         0.         0.36935653 0.\n",
      " 0.         0.         0.         0.         0.         0.\n",
      " 0.         0.         0.         0.         0.         0.\n",
      " 0.         0.         0.         0.         0.         0.\n",
      " 0.         0.         0.         0.         0.         0.\n",
      " 0.         0.         0.         0.         0.         0.\n",
      " 0.         0.         0.         0.         0.         0.\n",
      " 0.         0.         0.         0.         0.         0.\n",
      " 0.         0.         0.         0.         0.         0.\n",
      " 0.         0.         0.         0.         0.         0.\n",
      " 0.         0.         0.         0.         0.         0.\n",
      " 0.         0.         0.         0.         0.         0.\n",
      " 0.         0.         0.         0.         0.         0.\n",
      " 0.         0.         0.         0.         0.         0.\n",
      " 0.         0.         0.         0.         0.         0.\n",
      " 0.         0.         0.         0.         0.         0.\n",
      " 0.         0.         0.         0.38655665 0.         0.\n",
      " 0.         0.         0.         0.         0.         0.\n",
      " 0.         0.         0.         0.         0.         0.\n",
      " 0.         0.         0.         0.         0.         0.\n",
      " 0.         0.         0.         0.         0.         0.\n",
      " 0.         0.         0.         0.         0.         0.\n",
      " 0.16968831]\n",
      "[0 0 0 1 0 0 0 1 1 0 0 1 0 1 0 0 0 0 1 0 1 1 0 0 1 1 0 0 0 0 1 0 1 1 0 1 1\n",
      " 1 1 1 1 1 0 1 1 1 0 0 1 0 0 1 0 1 0 0 1 1 0 1 0 1 1 0 0 1 1 0 1 0 1 1 0 0\n",
      " 1 0 1 1 1 0 0 0 1 1 1 1 1 1 1 1 0 1 1 0 1 1 0 1 0 1 0 1 1 0 0 0 1 1 0 1 1\n",
      " 0 1 0 0 1 1 0 0 0 1 0 0 0 1 0 1 1 0 0 1 1 0 1 0 0 0 0 0 1 1 1 0 1 0 0 1 1\n",
      " 1 1 0 1 0 0 0 0 0 1 0 1 0 0 1 1 1 1 0 0 0 1 1 0 0 1 1 0 1 1 0 1 0 1 0 0 1\n",
      " 0 0 0 1 1 1 0 0 0 0 1 0 0 1 0 1 1 1 0 0 0 0 1 1 1 1 0 1 1 0 1 1 0 0 1 1 0\n",
      " 0 0 1 0 1 1 0 0 1 0 0 0 0 1 1 1 0 0 0 0 0 1 0 1 0 0 0 1 1 1 1 1 1 1 1 1 0\n",
      " 1 1 1 0 1 1 0 0 1 0 0 1 1 0 0 0 0 0 1 1 0 0 1 0 0 0 0 1 1 0 1 1 0 1 0 1 0\n",
      " 1 1 0 1]\n",
      "torch.Size([240, 301])\n",
      "torch.Size([240])\n",
      "\n",
      "torch.Size([60, 301])\n",
      "torch.Size([60])\n"
     ]
    }
   ],
   "source": [
    "\n",
    "# we will now convert the sentences to vectors to send through our model\n",
    "\n",
    "# TFIDF stands for Term-Frequency-Inverse Document Frequency. It measures how important a word is to a document relative to a corpus\n",
    "# (collection) of documents.\n",
    "# Term Frequency (TF) - measures how often a word appears in a document\n",
    "# Inverse Document Frequency (IDF) - measures how unique or rare a word is across all documents\n",
    "\n",
    "# TF = # Times word occurs in a document / # total number of words in document\n",
    "# IDF = log((Total # of documents / Number of documents containing the term) + 1)\n",
    "\n",
    "# Rare words across documents get a high IDF\n",
    "# Common words appear in many documents so their IDF is lower\n",
    "# Think of documents as a sentence\n",
    "\n",
    "# see the chart (where the number is higher, the more important that word is in that document)\n",
    "#       bird    cat    dog\n",
    "# D1    0.00    0.52   0.00\n",
    "# D2    0.00    0.00   0.52\n",
    "# D3    0.52    0.00   0.00\n",
    "\n",
    "# same goes for our matrix if we do X = vectorizer.fit_transform(corupus).toarray()\n",
    "\n",
    "vectorizer = TfidfVectorizer(max_features=20000, min_df=0.01, max_df=0.9) # max number of words, the amount of times for word to occur to be considered, and then max_df gets rif of words that occur mroe than a certain type\n",
    "X = vectorizer.fit_transform(corpus).toarray()\n",
    "print(X[0])\n",
    "\n",
    "y = dataset['boolean'].values  # gets our boolean row and converts to numpy array\n",
    "print(y)\n",
    "\n",
    "X_train, X_test, y_train, y_test = train_test_split(X, y, test_size=0.2, random_state=0) # splits our dataset into training set and test set\n",
    "\n",
    "X_train = torch.from_numpy(X_train).float()\n",
    "X_test = torch.from_numpy(X_test).float()\n",
    "\n",
    "Y_train = torch.from_numpy(y_train).long()\n",
    "y_test = torch.from_numpy(y_test).long()\n",
    "\n",
    "\n",
    "print(X_train.shape)\n",
    "print(Y_train.shape)\n",
    "print()\n",
    "print(X_test.shape)\n",
    "print(y_test.shape)\n",
    "\n",
    "# all of this prints:\n",
    "# torch.Size([1640, 186])\n",
    "# torch.Size([1640])\n",
    "#\n",
    "# torch.Size([410, 186])\n",
    "# torch.Size([410])\n",
    "# all of this means we have 1640+410 = 2050 sentences in the corpus, 186 vectorized features (need to understand this more)"
   ]
  },
  {
   "cell_type": "code",
   "execution_count": 14,
   "id": "630ee9e63fd94b3e",
   "metadata": {
    "ExecuteTime": {
     "end_time": "2025-07-14T23:37:50.612967Z",
     "start_time": "2025-07-14T23:37:50.607611Z"
    }
   },
   "outputs": [],
   "source": [
    "input_size = X_train.shape[1] # the number of nodes we have\n",
    "output_size = 2 # we are predicting whether true or false so it is 2\n",
    "hidden_size = 500 # this can change but lets try with 500\n",
    "\n",
    "# let's now build the neural network ourselves like we learned in datacamp\n",
    "model = nn.Sequential(\n",
    "    nn.Linear(input_size, hidden_size), # builds our first layer. remember they must link with the same hidden_size\n",
    "    nn.ReLU(), # introduces non-linearity so it can learn more complex relationships (look more into this)\n",
    "    nn.Linear(hidden_size, hidden_size),\n",
    "    nn.ReLU(),\n",
    "    nn.Linear(hidden_size, hidden_size),\n",
    "    nn.ReLU(),\n",
    "    nn.Linear(hidden_size, hidden_size),\n",
    "    nn.ReLU(),\n",
    "    nn.Linear(hidden_size, output_size),\n",
    "    nn.LogSoftmax(dim=1)) # we use the softmax activation function which is for classification"
   ]
  },
  {
   "cell_type": "code",
   "execution_count": 15,
   "id": "2cfd84dfcafe79b1",
   "metadata": {
    "ExecuteTime": {
     "end_time": "2025-07-14T23:37:51.894365Z",
     "start_time": "2025-07-14T23:37:51.892094Z"
    }
   },
   "outputs": [],
   "source": [
    "# the optimizer is what changes the weights and biases during training so it can learn better, this minimizes the loss function\n",
    "# it improves the accuracy of the neural network by using gradient descent\n",
    "optimizer = torch.optim.Adam(model.parameters(), lr=0.01)\n",
    "\n",
    "# the loss function is what holds the value for how bad the model performaed. it calculates the difference between the model's\n",
    "# prediction and the actual label\n",
    "loss_fn = nn.NLLLoss()"
   ]
  },
  {
   "cell_type": "code",
   "execution_count": 16,
   "id": "7a61cfc204c33489",
   "metadata": {
    "ExecuteTime": {
     "end_time": "2025-07-14T23:37:53.853363Z",
     "start_time": "2025-07-14T23:37:53.047060Z"
    }
   },
   "outputs": [
    {
     "name": "stdout",
     "output_type": "stream",
     "text": [
      "Epoch 0 Loss: 0.6930249929428101\n",
      "Epoch 1 Loss: 0.6907426714897156\n",
      "Epoch 2 Loss: 0.5752260088920593\n",
      "Epoch 3 Loss: 0.35824722051620483\n",
      "Epoch 4 Loss: 0.16640272736549377\n",
      "Epoch 5 Loss: 0.13617262244224548\n",
      "Epoch 6 Loss: 0.057088788598775864\n",
      "Epoch 7 Loss: 0.03240443021059036\n",
      "Epoch 8 Loss: 0.02465731091797352\n",
      "Epoch 9 Loss: 0.0539119690656662\n",
      "Epoch 10 Loss: 0.021433550864458084\n",
      "Epoch 11 Loss: 0.022657811641693115\n",
      "Epoch 12 Loss: 0.024847527965903282\n",
      "Epoch 13 Loss: 0.025158699601888657\n",
      "Epoch 14 Loss: 0.023685650900006294\n",
      "Epoch 15 Loss: 0.023282090201973915\n",
      "Epoch 16 Loss: 0.02455565519630909\n",
      "Epoch 17 Loss: 0.02210981771349907\n",
      "Epoch 18 Loss: 0.02245941571891308\n",
      "Epoch 19 Loss: 0.02215009741485119\n",
      "Epoch 20 Loss: 0.021129172295331955\n",
      "Epoch 21 Loss: 0.020552361384034157\n",
      "Epoch 22 Loss: 0.02068113535642624\n",
      "Epoch 23 Loss: 0.020631102845072746\n",
      "Epoch 24 Loss: 0.020116737112402916\n",
      "Epoch 25 Loss: 0.02014075592160225\n",
      "Epoch 26 Loss: 0.020044716075062752\n",
      "Epoch 27 Loss: 0.019662203267216682\n",
      "Epoch 28 Loss: 0.01964227482676506\n",
      "Epoch 29 Loss: 0.019251322373747826\n",
      "Epoch 30 Loss: 0.01925475336611271\n",
      "Epoch 31 Loss: 0.018841559067368507\n",
      "Epoch 32 Loss: 0.01877436973154545\n",
      "Epoch 33 Loss: 0.01845276914536953\n",
      "Epoch 34 Loss: 0.01845943182706833\n",
      "Epoch 35 Loss: 0.018180644139647484\n",
      "Epoch 36 Loss: 0.017965935170650482\n",
      "Epoch 37 Loss: 0.01819237880408764\n",
      "Epoch 38 Loss: 0.01810338906943798\n",
      "Epoch 39 Loss: 0.01767861284315586\n",
      "Epoch 40 Loss: 0.018550317734479904\n",
      "Epoch 41 Loss: 0.01832861639559269\n",
      "Epoch 42 Loss: 0.01836601085960865\n",
      "Epoch 43 Loss: 0.017532723024487495\n",
      "Epoch 44 Loss: 0.018030019477009773\n",
      "Epoch 45 Loss: 0.01843695156276226\n",
      "Epoch 46 Loss: 0.018625669181346893\n",
      "Epoch 47 Loss: 0.0174647755920887\n",
      "Epoch 48 Loss: 0.019828004762530327\n",
      "Epoch 49 Loss: 0.01823589764535427\n",
      "Epoch 50 Loss: 0.020202897489070892\n",
      "Epoch 51 Loss: 0.019515693187713623\n",
      "Epoch 52 Loss: 0.018916048109531403\n",
      "Epoch 53 Loss: 0.018482593819499016\n",
      "Epoch 54 Loss: 0.018230080604553223\n",
      "Epoch 55 Loss: 0.018230238929390907\n",
      "Epoch 56 Loss: 0.018478380516171455\n",
      "Epoch 57 Loss: 0.018345659598708153\n",
      "Epoch 58 Loss: 0.017682481557130814\n",
      "Epoch 59 Loss: 0.017710011452436447\n",
      "Epoch 60 Loss: 0.018062664195895195\n",
      "Epoch 61 Loss: 0.017752984538674355\n",
      "Epoch 62 Loss: 0.017344681546092033\n",
      "Epoch 63 Loss: 0.017286177724599838\n",
      "Epoch 64 Loss: 0.01749059371650219\n",
      "Epoch 65 Loss: 0.017533283680677414\n",
      "Epoch 66 Loss: 0.017328638583421707\n",
      "Epoch 67 Loss: 0.01716667413711548\n",
      "Epoch 68 Loss: 0.017211776226758957\n",
      "Epoch 69 Loss: 0.017311088740825653\n",
      "Epoch 70 Loss: 0.017282096669077873\n",
      "Epoch 71 Loss: 0.01716918684542179\n",
      "Epoch 72 Loss: 0.017125213518738747\n",
      "Epoch 73 Loss: 0.017166558653116226\n",
      "Epoch 74 Loss: 0.017183514311909676\n",
      "Epoch 75 Loss: 0.017143936827778816\n",
      "Epoch 76 Loss: 0.017119208350777626\n",
      "Epoch 77 Loss: 0.017085155472159386\n",
      "Epoch 78 Loss: 0.017104621976614\n",
      "Epoch 79 Loss: 0.01711159199476242\n",
      "Epoch 80 Loss: 0.01709493063390255\n",
      "Epoch 81 Loss: 0.01708986423909664\n",
      "Epoch 82 Loss: 0.01709773764014244\n",
      "Epoch 83 Loss: 0.01709524169564247\n",
      "Epoch 84 Loss: 0.01707492582499981\n",
      "Epoch 85 Loss: 0.01705586537718773\n",
      "Epoch 86 Loss: 0.017057841643691063\n",
      "Epoch 87 Loss: 0.01708921603858471\n",
      "Epoch 88 Loss: 0.017054585739970207\n",
      "Epoch 89 Loss: 0.01705261692404747\n",
      "Epoch 90 Loss: 0.01706058718264103\n",
      "Epoch 91 Loss: 0.01706591434776783\n",
      "Epoch 92 Loss: 0.017062488943338394\n",
      "Epoch 93 Loss: 0.017056439071893692\n",
      "Epoch 94 Loss: 0.017055097967386246\n",
      "Epoch 95 Loss: 0.017055364325642586\n",
      "Epoch 96 Loss: 0.017051756381988525\n",
      "Epoch 97 Loss: 0.017046738415956497\n",
      "Epoch 98 Loss: 0.017046594992280006\n",
      "Epoch 99 Loss: 0.017051594331860542\n"
     ]
    }
   ],
   "source": [
    "# now we will actually train the neural network\n",
    "epochs = 100\n",
    "\n",
    "for epoch in range(epochs):\n",
    "    optimizer.zero_grad()\n",
    "    Y_pred = model(X_train)\n",
    "    loss = loss_fn(Y_pred, Y_train) # loss function which computes how different predictions are from actual label\n",
    "    loss.backward() # backward pass to optimize\n",
    "    optimizer.step() # optimizes the weights to minimize loss\n",
    "    print(\"Epoch\", epoch, \"Loss:\", loss.item())\n",
    "\n",
    "# so perhaps we can find a way to combine our text classifier with a DecisionTreeRegressor which would take\n",
    "# into account like count, reply count, etc."
   ]
  },
  {
   "cell_type": "code",
   "execution_count": 17,
   "id": "a51946de0302652a",
   "metadata": {},
   "outputs": [],
   "source": [
    "# Save the vectorizer\n",
    "joblib.dump(vectorizer, 'vectorizer_real_new_model.pkl')\n",
    "torch.save(model.state_dict(), 'real_new_model_weights.pth')\n",
    "# Save entire model\n",
    "torch.save(model, 'real_new_model.pt')"
   ]
  }
 ],
 "metadata": {
  "kernelspec": {
   "display_name": ".venv",
   "language": "python",
   "name": "python3"
  },
  "language_info": {
   "codemirror_mode": {
    "name": "ipython",
    "version": 3
   },
   "file_extension": ".py",
   "mimetype": "text/x-python",
   "name": "python",
   "nbconvert_exporter": "python",
   "pygments_lexer": "ipython3",
   "version": "3.11.1"
  }
 },
 "nbformat": 4,
 "nbformat_minor": 5
}
