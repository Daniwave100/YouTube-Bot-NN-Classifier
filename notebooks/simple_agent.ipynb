{
 "cells": [
  {
   "cell_type": "code",
   "execution_count": null,
   "metadata": {},
   "outputs": [],
   "source": [
    "import datetime as dt\n",
    "from langchain.memory import ConversationBufferMemory\n",
    "from langchain.tools import Tool\n",
    "from langchain.agents import create_openai_functions_agent, AgentExecutor\n",
    "from langchain.prompts import ChatPromptTemplate, MessagesPlaceholder\n",
    "from langchain_core.messages import SystemMessage\n",
    "from langchain_openai import AzureChatOpenAI\n",
    "from langchain_core.messages import HumanMessage\n",
    "# from langchain.callbacks.streaming_stdout import StreamingStdOutCallbackHandler # use this to stream in the terminal\n",
    "import httpx"
   ]
  },
  {
   "cell_type": "code",
   "execution_count": 3,
   "metadata": {},
   "outputs": [],
   "source": [
    "# tools.py (original file)\n",
    "\n",
    "class Toolbox:\n",
    "    '''\n",
    "    A class representing possible tools to be utilized by agent.\n",
    "    '''\n",
    "    def __init__(self): # for class initialization\n",
    "        print(\"Toolbox instance has been created\")\n",
    "\n",
    "    #====================================================================================================\n",
    "\n",
    "    # utilizes datetime package referenced above\n",
    "    def get_current_datetime(self, input_param=\"\"):\n",
    "        \"\"\"Get current date and time in EST standard time\"\"\"\n",
    "        print(\"get_date_time_tool invoked\\n\")\n",
    "        est = dt.datetime.now() - dt.timedelta(hours=5)  # EST is UTC-5 (or -4 for EDT)\n",
    "        return f\"Current EST Date/Time: {est.strftime('%Y-%m-%d %H:%M:%S')}\""
   ]
  },
  {
   "cell_type": "code",
   "execution_count": 2,
   "metadata": {},
   "outputs": [],
   "source": [
    "# agent.py (original file)\n",
    "def create_tools():\n",
    "    '''\n",
    "    Creates tool instances for agent\n",
    "\n",
    "    Parameters:\n",
    "    None\n",
    "    \n",
    "\n",
    "    Returns:\n",
    "    list: List of tools to be used by agent\n",
    "    '''\n",
    "\n",
    "    # Initialize Toolbox object.\n",
    "    print(\"Creating toolbox instance\")\n",
    "    toolbox = Toolbox() # creates Toolbox object so we can access our tools in toolbox. doesn't have to be this way but I figured it made sense like this\n",
    "\n",
    "    # create tool instance here to return as a list so our AgentExecutor can use/understand it\n",
    "    date_time_tool = Tool(\n",
    "    name=\"get_current_datetime\",\n",
    "    description=\"Use this tool to get the date and time\", # prompt for the agent to understand what the tool does\n",
    "    func=toolbox.get_current_datetime # gets the tool/function you made in toolbox class\n",
    "    )\n",
    "\n",
    "    # add more tools here depending on what you need to do (query from seek and draw insights, create csv/pdf output tool, etc.)\n",
    "\n",
    "    tools = [date_time_tool] # return tools as a list.\n",
    "    return tools"
   ]
  },
  {
   "cell_type": "code",
   "execution_count": 6,
   "metadata": {},
   "outputs": [],
   "source": [
    "# agent.py (original file)\n",
    "def create_chatbot(tools: list[Tool]) -> AgentExecutor:\n",
    "    '''\n",
    "    Creates chatbot/agent that is integrated with LLM. This is essentially the core of the chatbot\n",
    "\n",
    "    Parameters:\n",
    "    tools (list[Tool]): List of Tools instances\n",
    "\n",
    "    Returns:\n",
    "    AgentExecutor: Agent object that will be called by main to execute agent. This is essentially the core of the chatbot\n",
    "    '''\n",
    "    \n",
    "    # you need this to bypass the annoying firewall\n",
    "    httpx_client = httpx.Client(http2=False, verify=False)\n",
    "    \n",
    "    # initialize LLM object\n",
    "    llm = AzureChatOpenAI(\n",
    "        azure_endpoint='https://air-api.regeneron.com/v1.0/model',\n",
    "        api_version='2024-08-01-preview',\n",
    "        http_client=httpx_client,\n",
    "        api_key=\"AIR-API\",\n",
    "        azure_deployment=\"gpt-4o\", # choose the model you want to use\n",
    "        model_name=\"gpt-4\", \n",
    "        default_headers={\n",
    "            'authorization-token': '' # api here\n",
    "        },\n",
    "        temperature=0.1\n",
    "    )\n",
    "    \n",
    "    print(\"Creating agent...\")\n",
    "    \n",
    "    # Initialize memory for chat history (every time you run this function again, it resets)\n",
    "    memory = ConversationBufferMemory(memory_key=\"chat_history\", return_messages=True) \n",
    "    \n",
    "    # Create prompt template, basically a more in-depth messages template [(\"system\", \"\"), (\"human\", \"\")]\n",
    "    prompt_template = ChatPromptTemplate.from_messages([\n",
    "        SystemMessage(content=\"You are a helpful AI assistant\"), # system prompt so the LLM knows what its role is\n",
    "        MessagesPlaceholder(variable_name=\"chat_history\"), #specifies what key to access ConversationBufferMemory\n",
    "        (\"human\", \"{input}\"),\n",
    "        MessagesPlaceholder(variable_name=\"agent_scratchpad\") # used for agent's working space (mostly as placeholder)\n",
    "    ])\n",
    "    \n",
    "    # Create agent. we need to do this because AgentExecutor() requires us to pass in the agent object.\n",
    "    agent = create_openai_functions_agent(\n",
    "        llm=llm,\n",
    "        tools=tools,\n",
    "        prompt=prompt_template\n",
    "    )\n",
    "    \n",
    "    # Create agent executor\n",
    "    agent_executor = AgentExecutor(\n",
    "        agent=agent,\n",
    "        tools=tools,\n",
    "        memory=memory,\n",
    "        verbose=False\n",
    "    )\n",
    "    \n",
    "    print(\"\\nAI Documentation Assistant is ready.\")\n",
    "    return agent_executor\n"
   ]
  },
  {
   "cell_type": "code",
   "execution_count": 7,
   "metadata": {},
   "outputs": [
    {
     "name": "stdout",
     "output_type": "stream",
     "text": [
      "Creating toolbox instance\n",
      "Toolbox instance has been created\n",
      "Creating agent...\n",
      "\n",
      "AI Documentation Assistant is ready.\n"
     ]
    },
    {
     "name": "stderr",
     "output_type": "stream",
     "text": [
      "C:\\Users\\daniel.canhedo\\AppData\\Local\\Temp\\1\\ipykernel_29800\\2968526665.py:32: LangChainDeprecationWarning: Please see the migration guide at: https://python.langchain.com/docs/versions/migrating_memory/\n",
      "  memory = ConversationBufferMemory(memory_key=\"chat_history\", return_messages=True)\n"
     ]
    },
    {
     "name": "stdout",
     "output_type": "stream",
     "text": [
      "get_date_time_tool invoked\n",
      "\n",
      "The current date and time is July 8, 2025, at 9:19 AM (EST).\n"
     ]
    }
   ],
   "source": [
    "# running everything\n",
    "tools = create_tools()\n",
    "agent_executor = create_chatbot(tools)\n",
    "user_input = \"what is the time right now\"\n",
    "\n",
    "# agent_executor is similar to llm here https://python.langchain.com/docs/integrations/chat/azure_chat_openai/,\n",
    "# except it is an agent with tools instead of just the basic LLM\n",
    "response = agent_executor.invoke({\"input\": user_input})\n",
    "print(response[\"output\"])"
   ]
  },
  {
   "cell_type": "code",
   "execution_count": null,
   "metadata": {},
   "outputs": [],
   "source": []
  }
 ],
 "metadata": {
  "interpreter": {
   "hash": "88f335f0c03b008283b7122a2d390fe0be65c2ed59137466f2a8c374ef08b45e"
  },
  "kernelspec": {
   "display_name": "Python 3.13.4 64-bit",
   "name": "python3"
  },
  "language_info": {
   "codemirror_mode": {
    "name": "ipython",
    "version": 3
   },
   "file_extension": ".py",
   "mimetype": "text/x-python",
   "name": "python",
   "nbconvert_exporter": "python",
   "pygments_lexer": "ipython3",
   "version": "3.13.4"
  },
  "orig_nbformat": 4
 },
 "nbformat": 4,
 "nbformat_minor": 2
}
