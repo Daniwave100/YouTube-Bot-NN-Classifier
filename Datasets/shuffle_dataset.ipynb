{
 "cells": [
  {
   "cell_type": "code",
   "execution_count": 15,
   "id": "cb62c6aa",
   "metadata": {},
   "outputs": [],
   "source": [
    "import pandas as pd\n",
    "import numpy as np\n",
    "\n",
    "# open the file and replace <br> with nothing\n",
    "with open(\"test_data_unshuffled.csv\", \"r\") as f:\n",
    "    text = f.read().replace(\"<br>\", \"\")\n",
    "\n",
    "with open(\"test_data_clean.csv\", \"w\") as f:\n",
    "    f.write(text)\n",
    "\n",
    "# now load the cleaned file\n",
    "import pandas as pd\n",
    "df = pd.read_csv(\"test_data_clean.csv\")\n",
    "\n"
   ]
  },
  {
   "cell_type": "code",
   "execution_count": 16,
   "id": "e2f4a57e",
   "metadata": {},
   "outputs": [],
   "source": [
    "\n",
    "# Shuffle rows\n",
    "df = df.sample(frac=1, random_state=42).reset_index(drop=True)\n",
    "\n",
    "# Save without adding empty lines\n",
    "df.to_csv(\"test_data_real.csv\", index=False)"
   ]
  }
 ],
 "metadata": {
  "kernelspec": {
   "display_name": ".venv",
   "language": "python",
   "name": "python3"
  },
  "language_info": {
   "codemirror_mode": {
    "name": "ipython",
    "version": 3
   },
   "file_extension": ".py",
   "mimetype": "text/x-python",
   "name": "python",
   "nbconvert_exporter": "python",
   "pygments_lexer": "ipython3",
   "version": "3.11.1"
  }
 },
 "nbformat": 4,
 "nbformat_minor": 5
}
