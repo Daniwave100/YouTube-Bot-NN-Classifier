{
 "cells": [
  {
   "cell_type": "code",
   "execution_count": 2,
   "id": "74e2bbc7",
   "metadata": {},
   "outputs": [],
   "source": [
    "import pandas as pd"
   ]
  },
  {
   "cell_type": "code",
   "execution_count": 30,
   "id": "ba6afa13",
   "metadata": {},
   "outputs": [],
   "source": [
    "llm_data_bot = pd.read_csv(\"/Users/danielcanhedo/DARPA_Research/YouTube-Bot-NN-Classifier/Datasets/RawData/llm_data_bot.csv\").reset_index(drop=True)\n",
    "llm_data_human = pd.read_csv(\"/Users/danielcanhedo/DARPA_Research/YouTube-Bot-NN-Classifier/Datasets/RawData/llm_data_human.csv\")"
   ]
  },
  {
   "cell_type": "code",
   "execution_count": 37,
   "id": "b2a374ce",
   "metadata": {},
   "outputs": [
    {
     "name": "stdout",
     "output_type": "stream",
     "text": [
      "<class 'pandas.core.frame.DataFrame'>\n",
      "RangeIndex: 9757 entries, 0 to 9756\n",
      "Data columns (total 7 columns):\n",
      " #   Column         Non-Null Count  Dtype \n",
      "---  ------         --------------  ----- \n",
      " 0   prompt         9757 non-null   object\n",
      " 1   temperature    9757 non-null   int64 \n",
      " 2   model          9757 non-null   object\n",
      " 3   thread number  9757 non-null   int64 \n",
      " 4   text           9757 non-null   object\n",
      " 5   author         9757 non-null   object\n",
      " 6   boolean        9757 non-null   int64 \n",
      "dtypes: int64(3), object(4)\n",
      "memory usage: 533.7+ KB\n",
      "<class 'pandas.core.frame.DataFrame'>\n",
      "RangeIndex: 11765 entries, 0 to 11764\n",
      "Data columns (total 7 columns):\n",
      " #   Column         Non-Null Count  Dtype \n",
      "---  ------         --------------  ----- \n",
      " 0   prompt         11765 non-null  object\n",
      " 1   temperature    11765 non-null  int64 \n",
      " 2   model          11765 non-null  object\n",
      " 3   thread number  11765 non-null  int64 \n",
      " 4   text           11255 non-null  object\n",
      " 5   author         11765 non-null  object\n",
      " 6   boolean        11765 non-null  int64 \n",
      "dtypes: int64(3), object(4)\n",
      "memory usage: 643.5+ KB\n"
     ]
    }
   ],
   "source": [
    "llm_data_bot.info()\n",
    "llm_data_human.info()"
   ]
  },
  {
   "cell_type": "code",
   "execution_count": 41,
   "id": "20731c9e",
   "metadata": {},
   "outputs": [],
   "source": [
    "data_bot_train = llm_data_bot.head(8757)\n",
    "data_bot_test = llm_data_bot.tail(1000)\n",
    "\n",
    "data_human_train = llm_data_human.head(10765)\n",
    "data_human_test = llm_data_human.tail(1000)"
   ]
  },
  {
   "cell_type": "code",
   "execution_count": 44,
   "id": "b7f77964",
   "metadata": {},
   "outputs": [],
   "source": [
    "# Concatenate the training data from bots and humans\n",
    "combined_data_train = pd.concat([data_bot_train, data_human_train], ignore_index=True)\n",
    "# Shuffle the combined DataFrame\n",
    "combined_data_train_shuffled = combined_data_train.sample(frac=1, random_state=42).reset_index(drop=True)\n",
    "\n",
    "combined_data_test = pd.concat([data_bot_test, data_human_test])\n",
    "combined_data_test_shuffled = combined_data_test.sample(frac=1, random_state=42).reset_index(drop=True)"
   ]
  },
  {
   "cell_type": "code",
   "execution_count": 45,
   "id": "0ebcd62a",
   "metadata": {},
   "outputs": [],
   "source": [
    "# If you want to save the shuffled data to a new CSV\n",
    "combined_data_train_shuffled.to_csv(\"/Users/danielcanhedo/DARPA_Research/YouTube-Bot-NN-Classifier/Datasets/llm_train_data.csv\", index=False)\n",
    "combined_data_test_shuffled.to_csv(\"/Users/danielcanhedo/DARPA_Research/YouTube-Bot-NN-Classifier/Datasets/llm_test_data.csv\", index=False)"
   ]
  }
 ],
 "metadata": {
  "kernelspec": {
   "display_name": ".venv",
   "language": "python",
   "name": "python3"
  },
  "language_info": {
   "codemirror_mode": {
    "name": "ipython",
    "version": 3
   },
   "file_extension": ".py",
   "mimetype": "text/x-python",
   "name": "python",
   "nbconvert_exporter": "python",
   "pygments_lexer": "ipython3",
   "version": "3.11.1"
  }
 },
 "nbformat": 4,
 "nbformat_minor": 5
}
