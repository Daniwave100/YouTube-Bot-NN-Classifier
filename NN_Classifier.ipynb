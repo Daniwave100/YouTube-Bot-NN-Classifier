{
 "cells": [
  {
   "cell_type": "code",
   "id": "initial_id",
   "metadata": {
    "collapsed": true,
    "ExecuteTime": {
     "end_time": "2025-07-14T23:34:53.794748Z",
     "start_time": "2025-07-14T23:34:53.790670Z"
    }
   },
   "source": [
    "import nltk\n",
    "nltk.data.path.append(\"/Users/danielcanhedo/nltk_data\")\n",
    "from nltk.corpus import stopwords\n",
    "print(stopwords.words(\"english\"))  # finally works\n",
    "from nltk.corpus import stopwords # stop works are commonly used words that do not provide value to training model\n",
    "from nltk.stem import PorterStemmer # porterstemmer converts similar words to one type of word. for example, running, runner becomes run\n",
    "import re\n",
    "import numpy as np\n",
    "import pandas as pd\n",
    "from sklearn.feature_extraction.text import TfidfVectorizer\n",
    "import torch\n",
    "import torch.nn as nn\n",
    "from torch.nn import functional as F\n",
    "import torch.optim as optim\n",
    "from sklearn.model_selection import train_test_split\n",
    "import joblib\n"
   ],
   "outputs": [
    {
     "name": "stdout",
     "output_type": "stream",
     "text": [
      "['i', 'me', 'my', 'myself', 'we', 'our', 'ours', 'ourselves', 'you', \"you're\", \"you've\", \"you'll\", \"you'd\", 'your', 'yours', 'yourself', 'yourselves', 'he', 'him', 'his', 'himself', 'she', \"she's\", 'her', 'hers', 'herself', 'it', \"it's\", 'its', 'itself', 'they', 'them', 'their', 'theirs', 'themselves', 'what', 'which', 'who', 'whom', 'this', 'that', \"that'll\", 'these', 'those', 'am', 'is', 'are', 'was', 'were', 'be', 'been', 'being', 'have', 'has', 'had', 'having', 'do', 'does', 'did', 'doing', 'a', 'an', 'the', 'and', 'but', 'if', 'or', 'because', 'as', 'until', 'while', 'of', 'at', 'by', 'for', 'with', 'about', 'against', 'between', 'into', 'through', 'during', 'before', 'after', 'above', 'below', 'to', 'from', 'up', 'down', 'in', 'out', 'on', 'off', 'over', 'under', 'again', 'further', 'then', 'once', 'here', 'there', 'when', 'where', 'why', 'how', 'all', 'any', 'both', 'each', 'few', 'more', 'most', 'other', 'some', 'such', 'no', 'nor', 'not', 'only', 'own', 'same', 'so', 'than', 'too', 'very', 's', 't', 'can', 'will', 'just', 'don', \"don't\", 'should', \"should've\", 'now', 'd', 'll', 'm', 'o', 're', 've', 'y', 'ain', 'aren', \"aren't\", 'couldn', \"couldn't\", 'didn', \"didn't\", 'doesn', \"doesn't\", 'hadn', \"hadn't\", 'hasn', \"hasn't\", 'haven', \"haven't\", 'isn', \"isn't\", 'ma', 'mightn', \"mightn't\", 'mustn', \"mustn't\", 'needn', \"needn't\", 'shan', \"shan't\", 'shouldn', \"shouldn't\", 'wasn', \"wasn't\", 'weren', \"weren't\", 'won', \"won't\", 'wouldn', \"wouldn't\"]\n"
     ]
    }
   ],
   "execution_count": 15
  },
  {
   "metadata": {
    "ExecuteTime": {
     "end_time": "2025-07-14T23:34:55.440237Z",
     "start_time": "2025-07-14T23:34:55.433688Z"
    }
   },
   "cell_type": "code",
   "source": [
    "dataset = pd.read_csv(\"training_set.csv\") # imports our training data set\n",
    "print(dataset.head())"
   ],
   "id": "cbcee9580125fa7a",
   "outputs": [
    {
     "name": "stdout",
     "output_type": "stream",
     "text": [
      "    authorDisplayName       commentDatePublished      videoId  \\\n",
      "0  @SophiaSchmidt-w4w  2025-04-13 19:08:00+00:00  8jGKQ75VM2Y   \n",
      "1          @Marylucyy  2025-04-13 19:08:57+00:00  8jGKQ75VM2Y   \n",
      "2       @rose-raleigh  2025-04-13 19:09:33+00:00  8jGKQ75VM2Y   \n",
      "3   @dianne-philbeeck  2025-04-13 19:11:30+00:00  8jGKQ75VM2Y   \n",
      "4       @rose-raleigh  2025-04-13 19:13:12+00:00  8jGKQ75VM2Y   \n",
      "\n",
      "          videoDatePublished  likeCount  replyCount  \\\n",
      "0  2025-04-03 22:30:59+00:00      108.0         5.0   \n",
      "1  2025-04-03 22:30:59+00:00        0.0         0.0   \n",
      "2  2025-04-03 22:30:59+00:00        0.0         0.0   \n",
      "3  2025-04-03 22:30:59+00:00        0.0         0.0   \n",
      "4  2025-04-03 22:30:59+00:00        0.0         0.0   \n",
      "\n",
      "                                                text  timeDifference  boolean  \\\n",
      "0  The trade war causes stock market volatility a...        851821.0      1.0   \n",
      "1  I think the whole thing about holding stocks f...        851878.0      1.0   \n",
      "2  You have a very valid point, I started investi...        851914.0      1.0   \n",
      "3  Your invt-adviser must be really good, I hope ...        852031.0      1.0   \n",
      "4  Her name is Kelley Annette can&#39;t divulge m...        852133.0      1.0   \n",
      "\n",
      "   count of bot:  count of human:  \n",
      "0          163.0            350.0  \n",
      "1            NaN              NaN  \n",
      "2            NaN              NaN  \n",
      "3            NaN              NaN  \n",
      "4            NaN              NaN  \n"
     ]
    }
   ],
   "execution_count": 16
  },
  {
   "metadata": {
    "ExecuteTime": {
     "end_time": "2025-07-14T23:34:57.034860Z",
     "start_time": "2025-07-14T23:34:57.031204Z"
    }
   },
   "cell_type": "code",
   "source": "type(dataset.text)",
   "id": "885777e37738bd9e",
   "outputs": [
    {
     "data": {
      "text/plain": [
       "pandas.core.series.Series"
      ]
     },
     "execution_count": 17,
     "metadata": {},
     "output_type": "execute_result"
    }
   ],
   "execution_count": 17
  },
  {
   "metadata": {
    "ExecuteTime": {
     "end_time": "2025-07-14T23:37:46.021686Z",
     "start_time": "2025-07-14T23:37:45.510994Z"
    }
   },
   "cell_type": "code",
   "source": [
    "# data cleaning portion ----------------------------------------------------------------\n",
    "\n",
    "ps = PorterStemmer()\n",
    "corpus = []\n",
    "\n",
    "for i in range(len(dataset)):\n",
    "\n",
    "    comments = re.sub(\"[^a-zA-Z]\", \" \", str(dataset[\"text\"][i])) # we are only going to keep a-z A-Z letters\n",
    "    comments = comments.lower() # converts to lowercase for consistency\n",
    "    comments = comments.split() # splits every word by space. we now have individual words\n",
    "\n",
    "    clean_comments = [] # initializes a list to store cleaned comments\n",
    "    for word in comments:\n",
    "\n",
    "        if word not in set(stopwords.words('english')): # this for loop will get rid of stop words and apply stemming (explained above)\n",
    "            stemmed_word = ps.stem(word)\n",
    "            clean_comments.append(stemmed_word)\n",
    "\n",
    "    clean_comments = \" \".join(clean_comments)\n",
    "    corpus.append(clean_comments) # we now have a corpus of clean sentences"
   ],
   "id": "63bf97e3b9e8738",
   "outputs": [],
   "execution_count": 23
  },
  {
   "metadata": {
    "ExecuteTime": {
     "end_time": "2025-07-14T23:37:47.693816Z",
     "start_time": "2025-07-14T23:37:47.682516Z"
    }
   },
   "cell_type": "code",
   "source": [
    "\n",
    "# we will now convert the sentences to vectors to send through our model\n",
    "\n",
    "# TFIDF stands for Term-Frequency-Inverse Document Frequency. It measures how important a word is to a document relative to a corpus\n",
    "# (collection) of documents.\n",
    "# Term Frequency (TF) - measures how often a word appears in a document\n",
    "# Inverse Document Frequency (IDF) - measures how unique or rare a word is across all documents\n",
    "\n",
    "# TF = # Times word occurs in a document / # total number of words in document\n",
    "# IDF = log((Total # of documents / Number of documents containing the term) + 1)\n",
    "\n",
    "# Rare words across documents get a high IDF\n",
    "# Common words appear in many documents so their IDF is lower\n",
    "# Think of documents as a sentence\n",
    "\n",
    "# see the chart (where the number is higher, the more important that word is in that document)\n",
    "#       bird    cat    dog\n",
    "# D1    0.00    0.52   0.00\n",
    "# D2    0.00    0.00   0.52\n",
    "# D3    0.52    0.00   0.00\n",
    "\n",
    "# same goes for our matrix if we do X = vectorizer.fit_transform(corupus).toarray()\n",
    "\n",
    "vectorizer = TfidfVectorizer(max_features=20000, min_df=0.01, max_df=0.9) # max number of words, the amount of times for word to occur to be considered, and then max_df gets rif of words that occur mroe than a certain type\n",
    "X = vectorizer.fit_transform(corpus).toarray()\n",
    "print(X[0])\n",
    "\n",
    "y = dataset['boolean'].values  # gets our boolean row and converts to numpy array\n",
    "print(y)\n",
    "\n",
    "X_train, X_test, y_train, y_test = train_test_split(X, y, test_size=0.2, random_state=0) # splits our dataset into training set and test set\n",
    "\n",
    "X_train = torch.from_numpy(X_train).float()\n",
    "X_test = torch.from_numpy(X_test).float()\n",
    "\n",
    "Y_train = torch.from_numpy(y_train).long()\n",
    "y_test = torch.from_numpy(y_test).long()\n",
    "\n",
    "\n",
    "print(X_train.shape)\n",
    "print(Y_train.shape)\n",
    "print()\n",
    "print(X_test.shape)\n",
    "print(y_test.shape)\n",
    "\n",
    "# all of this prints:\n",
    "# torch.Size([1640, 186])\n",
    "# torch.Size([1640])\n",
    "#\n",
    "# torch.Size([410, 186])\n",
    "# torch.Size([410])\n",
    "# all of this means we have 1640+410 = 2050 sentences in the corpus, 186 vectorized features (need to understand this more)"
   ],
   "id": "cba5f6aded221dbf",
   "outputs": [
    {
     "name": "stdout",
     "output_type": "stream",
     "text": [
      "[0.         0.         0.         0.         0.         0.\n",
      " 0.         0.         0.         0.         0.         0.\n",
      " 0.         0.         0.         0.         0.         0.\n",
      " 0.34918472 0.         0.         0.         0.         0.\n",
      " 0.         0.         0.         0.         0.         0.\n",
      " 0.         0.         0.         0.         0.         0.\n",
      " 0.         0.         0.         0.         0.         0.\n",
      " 0.         0.         0.         0.         0.         0.\n",
      " 0.         0.         0.         0.         0.         0.\n",
      " 0.         0.         0.         0.         0.         0.\n",
      " 0.         0.         0.         0.         0.         0.\n",
      " 0.         0.         0.         0.         0.         0.\n",
      " 0.         0.         0.30740564 0.         0.         0.\n",
      " 0.         0.         0.         0.         0.         0.\n",
      " 0.         0.         0.         0.         0.         0.\n",
      " 0.         0.         0.24739853 0.         0.         0.24389968\n",
      " 0.         0.         0.         0.         0.         0.\n",
      " 0.         0.         0.         0.         0.         0.\n",
      " 0.         0.         0.         0.         0.         0.\n",
      " 0.         0.         0.         0.         0.         0.\n",
      " 0.26359034 0.         0.         0.         0.         0.\n",
      " 0.         0.         0.         0.         0.         0.\n",
      " 0.         0.         0.         0.         0.         0.\n",
      " 0.         0.         0.         0.         0.         0.\n",
      " 0.         0.57008551 0.         0.         0.         0.\n",
      " 0.         0.         0.26359034 0.         0.         0.\n",
      " 0.         0.         0.         0.         0.         0.\n",
      " 0.         0.         0.         0.2659226  0.         0.\n",
      " 0.         0.         0.         0.         0.         0.\n",
      " 0.         0.         0.         0.         0.35805959 0.\n",
      " 0.         0.         0.         0.         0.         0.\n",
      " 0.         0.         0.         0.         0.         0.\n",
      " 0.         0.         0.         0.        ]\n",
      "[ 1.  1.  1.  1.  1.  1.  1.  1.  1.  1.  1.  1.  1.  1.  1.  0.  0.  0.\n",
      "  0.  0.  0.  0.  0.  0.  0.  0.  0.  0.  0.  0.  0.  0.  0.  0.  0.  0.\n",
      "  0.  0.  0.  0.  0.  0.  0.  0.  0.  0.  0.  0.  0.  0.  0.  0.  0.  0.\n",
      "  0.  0.  0.  0.  0.  0.  0.  0.  0.  0.  0.  0.  0.  0.  0.  0.  0.  0.\n",
      "  0.  0.  0.  0.  0.  0.  0.  0.  0.  0.  0.  0.  0.  0.  0.  0.  0.  0.\n",
      "  0.  0.  0.  0.  0.  0.  0.  0.  0.  0.  0.  0.  0.  0.  0.  0.  0.  0.\n",
      "  0.  0.  0.  0.  0.  0.  0.  0.  0.  0.  0.  0.  0.  0.  0.  0.  0.  0.\n",
      "  0.  0.  0.  0.  0.  0.  0.  0.  1.  1.  1.  1.  1.  1.  1.  1.  1.  1.\n",
      "  1.  1.  1.  1.  1.  1.  1.  1.  1.  1.  1.  1.  1.  1.  1.  1.  1.  1.\n",
      "  0.  0.  0.  0.  0.  0.  0.  0.  0.  0.  0.  0.  0.  0.  0.  0.  0.  0.\n",
      "  0.  0.  0.  1.  1.  1.  1.  1.  1.  1.  1.  0.  0.  0.  0.  0.  0.  0.\n",
      "  0.  0.  1.  1.  1.  1.  1.  1.  1.  1.  1.  0.  0.  0.  0.  0.  0.  0.\n",
      "  0.  0.  0.  0.  0.  0.  0.  0.  0.  0.  0.  0.  0.  0.  0.  0.  0.  0.\n",
      "  0.  0.  0.  0.  0.  0.  0.  0.  0.  0.  0.  0.  0.  0.  0.  0.  0.  0.\n",
      "  0.  0.  0.  0.  0.  0.  0.  0.  0.  0.  0.  0.  1.  1.  1.  1.  1.  1.\n",
      "  1.  1.  1.  0.  0.  0.  0.  0.  0.  0.  0.  0.  0.  0.  0.  0.  0.  0.\n",
      "  0.  0.  0.  0.  0.  0.  0.  0.  0.  0.  0.  0.  0.  0.  0.  0.  0.  0.\n",
      "  0.  0.  0.  0.  0.  0.  0.  0.  0.  0.  0.  0.  0.  0.  0.  0.  0.  0.\n",
      "  0.  0.  0.  0.  0.  0.  1.  1.  1.  1.  1.  1.  1.  1.  1.  1.  1.  0.\n",
      "  0.  0.  0.  0.  0.  0.  0.  0.  0.  0.  0.  0.  0.  0.  0.  0.  0.  0.\n",
      "  0.  0.  0.  0.  0.  0.  0.  0.  0.  0.  0.  0.  0.  0.  0.  0.  0.  0.\n",
      "  0.  0.  0.  0.  0.  0.  0.  0.  0.  0.  0.  0.  0.  0.  0.  0.  0.  0.\n",
      "  0.  0.  0.  0.  0.  0.  0.  0.  0.  0.  0.  0.  0.  0.  0.  0.  0.  0.\n",
      "  0.  0.  0.  0.  0.  0.  0.  0.  0.  0.  0.  0.  0.  0.  0.  0.  1.  1.\n",
      "  1.  1.  1.  1.  1.  1.  1.  1.  1.  1.  1.  1.  1.  1.  1.  1.  1.  1.\n",
      "  1.  1.  1.  1.  1.  1.  1.  1.  1.  1.  1.  1.  1.  1.  1.  1.  1.  1.\n",
      "  1.  1.  1.  1.  1.  1.  1.  1.  1.  1.  1.  1.  1.  1.  1.  1.  1.  1.\n",
      "  1.  1.  1.  1.  1.  1.  1.  1.  1.  1.  1.  1.  1.  1.  1.  1.  1.  1.\n",
      "  1.  1.  1.  1.  1.  1.  1.  1.  1. nan nan nan nan nan nan nan nan nan\n",
      " nan nan nan nan nan nan nan nan nan nan nan nan nan nan nan nan nan nan\n",
      " nan nan nan nan nan nan nan nan nan nan nan nan nan nan nan nan nan nan\n",
      " nan nan nan nan]\n",
      "torch.Size([449, 196])\n",
      "torch.Size([449])\n",
      "\n",
      "torch.Size([113, 196])\n",
      "torch.Size([113])\n"
     ]
    }
   ],
   "execution_count": 24
  },
  {
   "metadata": {
    "ExecuteTime": {
     "end_time": "2025-07-14T23:37:50.612967Z",
     "start_time": "2025-07-14T23:37:50.607611Z"
    }
   },
   "cell_type": "code",
   "source": [
    "input_size = X_train.shape[1] # the number of nodes we have\n",
    "output_size = 2 # we are predicting whether true or false so it is 2\n",
    "hidden_size = 500 # this can change but lets try with 500\n",
    "\n",
    "# let's now build the neural network ourselves like we learned in datacamp\n",
    "model = nn.Sequential(\n",
    "    nn.Linear(input_size, hidden_size), # builds our first layer. remember they must link with the same hidden_size\n",
    "    nn.ReLU(), # introduces non-linearity so it can learn more complex relationships (look more into this)\n",
    "    nn.Linear(hidden_size, hidden_size),\n",
    "    nn.ReLU(),\n",
    "    nn.Linear(hidden_size, hidden_size),\n",
    "    nn.ReLU(),\n",
    "    nn.Linear(hidden_size, hidden_size),\n",
    "    nn.ReLU(),\n",
    "    nn.Linear(hidden_size, output_size),\n",
    "    nn.LogSoftmax(dim=1)) # we use the softmax activation function which is for classification"
   ],
   "id": "630ee9e63fd94b3e",
   "outputs": [],
   "execution_count": 25
  },
  {
   "metadata": {
    "ExecuteTime": {
     "end_time": "2025-07-14T23:37:51.894365Z",
     "start_time": "2025-07-14T23:37:51.892094Z"
    }
   },
   "cell_type": "code",
   "source": [
    "# the optimizer is what changes the weights and biases during training so it can learn better, this minimizes the loss function\n",
    "# it improves the accuracy of the neural network by using gradient descent\n",
    "optimizer = torch.optim.Adam(model.parameters(), lr=0.01)\n",
    "\n",
    "# the loss function is what holds the value for how bad the model performaed. it calculates the difference between the model's\n",
    "# prediction and the actual label\n",
    "loss_fn = nn.NLLLoss()"
   ],
   "id": "2cfd84dfcafe79b1",
   "outputs": [],
   "execution_count": 26
  },
  {
   "metadata": {
    "ExecuteTime": {
     "end_time": "2025-07-14T23:37:53.853363Z",
     "start_time": "2025-07-14T23:37:53.047060Z"
    }
   },
   "cell_type": "code",
   "source": [
    "# now we will actually train the neural network\n",
    "epochs = 100\n",
    "\n",
    "for epoch in range(epochs):\n",
    "    optimizer.zero_grad()\n",
    "    Y_pred = model(X_train)\n",
    "    loss = loss_fn(Y_pred, Y_train) # loss function which computes how different predictions are from actual label\n",
    "    loss.backward() # backward pass to optimize\n",
    "    optimizer.step() # optimizes the weights to minimize loss\n",
    "    print(\"Epoch\", epoch, \"Loss:\", loss.item())\n",
    "\n",
    "# so perhaps we can find a way to combine our text classifier with a DecisionTreeRegressor which would take\n",
    "# into account like count, reply count, etc."
   ],
   "id": "7a61cfc204c33489",
   "outputs": [
    {
     "name": "stdout",
     "output_type": "stream",
     "text": [
      "Epoch 0 Loss: 0.6908933520317078\n",
      "Epoch 1 Loss: 1.0887172222137451\n",
      "Epoch 2 Loss: 0.6840240359306335\n",
      "Epoch 3 Loss: 0.6604833602905273\n",
      "Epoch 4 Loss: 0.618754506111145\n",
      "Epoch 5 Loss: 0.5590994954109192\n",
      "Epoch 6 Loss: 0.4568946063518524\n",
      "Epoch 7 Loss: 0.39308035373687744\n",
      "Epoch 8 Loss: 0.3089693486690521\n",
      "Epoch 9 Loss: 0.20993870496749878\n",
      "Epoch 10 Loss: 0.19092528522014618\n",
      "Epoch 11 Loss: 0.16727450489997864\n",
      "Epoch 12 Loss: 0.1339171677827835\n",
      "Epoch 13 Loss: 0.13449352979660034\n",
      "Epoch 14 Loss: 0.12195169925689697\n",
      "Epoch 15 Loss: 0.10742218792438507\n",
      "Epoch 16 Loss: 0.10055065155029297\n",
      "Epoch 17 Loss: 0.09870340675115585\n",
      "Epoch 18 Loss: 0.09818830341100693\n",
      "Epoch 19 Loss: 0.09781956672668457\n",
      "Epoch 20 Loss: 0.0962088480591774\n",
      "Epoch 21 Loss: 0.09486547112464905\n",
      "Epoch 22 Loss: 0.09453263878822327\n",
      "Epoch 23 Loss: 0.09452226012945175\n",
      "Epoch 24 Loss: 0.0932619571685791\n",
      "Epoch 25 Loss: 0.09360672533512115\n",
      "Epoch 26 Loss: 0.09244965761899948\n",
      "Epoch 27 Loss: 0.09209617972373962\n",
      "Epoch 28 Loss: 0.09215503185987473\n",
      "Epoch 29 Loss: 0.0917225256562233\n",
      "Epoch 30 Loss: 0.09191082417964935\n",
      "Epoch 31 Loss: 0.09206639230251312\n",
      "Epoch 32 Loss: 0.09116329252719879\n",
      "Epoch 33 Loss: 0.09155865013599396\n",
      "Epoch 34 Loss: 0.09123674035072327\n",
      "Epoch 35 Loss: 0.0916435644030571\n",
      "Epoch 36 Loss: 0.09173055738210678\n",
      "Epoch 37 Loss: 0.09102534502744675\n",
      "Epoch 38 Loss: 0.09052160382270813\n",
      "Epoch 39 Loss: 0.09185947477817535\n",
      "Epoch 40 Loss: 0.09027593582868576\n",
      "Epoch 41 Loss: 0.09389130771160126\n",
      "Epoch 42 Loss: 0.09332013875246048\n",
      "Epoch 43 Loss: 0.09030577540397644\n",
      "Epoch 44 Loss: 0.09053517132997513\n",
      "Epoch 45 Loss: 0.091733418405056\n",
      "Epoch 46 Loss: 0.09025639295578003\n",
      "Epoch 47 Loss: 0.09154494106769562\n",
      "Epoch 48 Loss: 0.090337835252285\n",
      "Epoch 49 Loss: 0.0901447981595993\n",
      "Epoch 50 Loss: 0.09053192287683487\n",
      "Epoch 51 Loss: 0.09069880843162537\n",
      "Epoch 52 Loss: 0.0904722660779953\n",
      "Epoch 53 Loss: 0.09026329964399338\n",
      "Epoch 54 Loss: 0.09027581661939621\n",
      "Epoch 55 Loss: 0.0901409387588501\n",
      "Epoch 56 Loss: 0.08999224007129669\n",
      "Epoch 57 Loss: 0.09010489284992218\n",
      "Epoch 58 Loss: 0.09017781913280487\n",
      "Epoch 59 Loss: 0.09003491699695587\n",
      "Epoch 60 Loss: 0.08987735211849213\n",
      "Epoch 61 Loss: 0.0898846909403801\n",
      "Epoch 62 Loss: 0.08996634930372238\n",
      "Epoch 63 Loss: 0.08992323279380798\n",
      "Epoch 64 Loss: 0.0898648276925087\n",
      "Epoch 65 Loss: 0.089900441467762\n",
      "Epoch 66 Loss: 0.08988571912050247\n",
      "Epoch 67 Loss: 0.08982571214437485\n",
      "Epoch 68 Loss: 0.08981570601463318\n",
      "Epoch 69 Loss: 0.0898365005850792\n",
      "Epoch 70 Loss: 0.0898071825504303\n",
      "Epoch 71 Loss: 0.08977968245744705\n",
      "Epoch 72 Loss: 0.08980634808540344\n",
      "Epoch 73 Loss: 0.08978517353534698\n",
      "Epoch 74 Loss: 0.08979150652885437\n",
      "Epoch 75 Loss: 0.08980444818735123\n",
      "Epoch 76 Loss: 0.08978337794542313\n",
      "Epoch 77 Loss: 0.08976952731609344\n",
      "Epoch 78 Loss: 0.0897810161113739\n",
      "Epoch 79 Loss: 0.08977171033620834\n",
      "Epoch 80 Loss: 0.08975910395383835\n",
      "Epoch 81 Loss: 0.08976398408412933\n",
      "Epoch 82 Loss: 0.08977080136537552\n",
      "Epoch 83 Loss: 0.0897645577788353\n",
      "Epoch 84 Loss: 0.08975827693939209\n",
      "Epoch 85 Loss: 0.0897606834769249\n",
      "Epoch 86 Loss: 0.08976290374994278\n",
      "Epoch 87 Loss: 0.08976097404956818\n",
      "Epoch 88 Loss: 0.08975875377655029\n",
      "Epoch 89 Loss: 0.08975827693939209\n",
      "Epoch 90 Loss: 0.08975916355848312\n",
      "Epoch 91 Loss: 0.08975887298583984\n",
      "Epoch 92 Loss: 0.08975601941347122\n",
      "Epoch 93 Loss: 0.08975490182638168\n",
      "Epoch 94 Loss: 0.08975732326507568\n",
      "Epoch 95 Loss: 0.08975660800933838\n",
      "Epoch 96 Loss: 0.08975505828857422\n",
      "Epoch 97 Loss: 0.08975451439619064\n",
      "Epoch 98 Loss: 0.08975521475076675\n",
      "Epoch 99 Loss: 0.08975530415773392\n"
     ]
    }
   ],
   "execution_count": 27
  },
  {
   "metadata": {},
   "cell_type": "code",
   "outputs": [],
   "execution_count": null,
   "source": [
    "# Save the vectorizer\n",
    "joblib.dump(vectorizer, 'vectorizer.pkl')\n",
    "torch.save(model.state_dict(), 'model_weights.pth')\n",
    "# Save entire model\n",
    "torch.save(model, 'full_model.pt')"
   ],
   "id": "a51946de0302652a"
  }
 ],
 "metadata": {
  "kernelspec": {
   "display_name": "Python 3",
   "language": "python",
   "name": "python3"
  },
  "language_info": {
   "codemirror_mode": {
    "name": "ipython",
    "version": 2
   },
   "file_extension": ".py",
   "mimetype": "text/x-python",
   "name": "python",
   "nbconvert_exporter": "python",
   "pygments_lexer": "ipython2",
   "version": "2.7.6"
  }
 },
 "nbformat": 4,
 "nbformat_minor": 5
}
